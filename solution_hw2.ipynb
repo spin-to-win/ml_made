{
 "cells": [
  {
   "cell_type": "code",
   "execution_count": 140,
   "metadata": {},
   "outputs": [],
   "source": [
    "import pandas as pd\n",
    "import numpy as np\n",
    "import matplotlib as mpl\n",
    "import matplotlib.pyplot as plt\n",
    "import seaborn as sns\n",
    "import warnings\n",
    "warnings.filterwarnings('ignore')\n",
    "\n",
    "import json\n",
    "import pickle\n",
    "import tqdm\n",
    "\n",
    "from sklearn import linear_model\n",
    "from sklearn.utils.testing import ignore_warnings\n",
    "\n",
    "np.set_printoptions(precision=4, suppress=True)\n",
    "\n",
    "from collections import Counter\n",
    "\n",
    "import scipy.stats as sts"
   ]
  },
  {
   "cell_type": "code",
   "execution_count": 2,
   "metadata": {},
   "outputs": [],
   "source": [
    "pd.options.display.max_columns = 150\n",
    "pd.options.display.max_rows = 150"
   ]
  },
  {
   "cell_type": "markdown",
   "metadata": {},
   "source": [
    "----"
   ]
  },
  {
   "cell_type": "markdown",
   "metadata": {},
   "source": [
    "### Задание"
   ]
  },
  {
   "cell_type": "markdown",
   "metadata": {},
   "source": [
    "**Background**: в спортивном “Что? Где? Когда?” соревнующиеся команды отвечают на одни и те же вопросы. После минуты обсуждения команды записывают и сдают свои ответы на карточках; побеждает тот, кто ответил на большее число вопросов. Турнир обычно состоит из нескольких десятков вопросов (обычно 36 или 45, иногда 60, больше редко). Часто бывают синхронные турниры, когда на одни и те же вопросы отвечают команды на сотнях игровых площадок по всему миру, т.е. в одном турнире могут играть сотни, а то и тысячи команд. Соответственно, нам нужно:\n",
    "- построить рейтинг-лист, который способен нетривиально предсказывать результаты будущих турниров;\n",
    "- при этом, поскольку ЧГК — это хобби, и контрактов тут никаких нет, игроки постоянно переходят из команды в команду, сильный игрок может на один турнир сесть поиграть за другую команду и т.д.; поэтому единицей рейтинг-листа должна быть не команда, а отдельный игрок;\n"
   ]
  },
  {
   "cell_type": "markdown",
   "metadata": {},
   "source": [
    "### Структура решения"
   ]
  },
  {
   "cell_type": "markdown",
   "metadata": {},
   "source": [
    "I часть, в которой генерятся фичи для задачи предсказания вероятностности ответить на вопрос\n",
    "\n",
    "II часть, в которой я понял, что на тесте будут ровно те же игроки, что и на трейне, а значит можно переобучаться сколько душе угодно\n",
    "\n",
    "III часть, где предсказываются результаты турниров 2020 года с известными составами, но неизвестными вопросами\n",
    "\n",
    "IV часть, где вводится ЕМ-алгоритм для учета влияния скрытой переменной \"сила команды\"\n",
    "\n",
    "V часть, с рейтинг-листом турниров по сложности вопросов."
   ]
  },
  {
   "cell_type": "markdown",
   "metadata": {},
   "source": [
    "----"
   ]
  },
  {
   "cell_type": "markdown",
   "metadata": {},
   "source": [
    "### I часть, в которой генерятся фичи и решается задача предсказания вероятностности ответить на вопрос"
   ]
  },
  {
   "cell_type": "markdown",
   "metadata": {},
   "source": [
    "Читаем данные и генерируем фичи: \n",
    "- характеристики игрока\n",
    "  - сколько турниров cыграл игрок\n",
    "  - средний процент верных ответов \n",
    "  - средний процент верных ответов по маскам из questionQty\n",
    "  - relative_team_position - относительная позициия в турнире (относительная т.к. есть турниры на 20 команд и на 1000+ команд)"
   ]
  },
  {
   "cell_type": "code",
   "execution_count": 195,
   "metadata": {},
   "outputs": [
    {
     "name": "stdout",
     "output_type": "stream",
     "text": [
      "CPU times: user 21.6 s, sys: 2.93 s, total: 24.5 s\n",
      "Wall time: 24.6 s\n"
     ]
    }
   ],
   "source": [
    "%%time\n",
    "tournaments = pickle.load(open('./data/tournaments.pkl', 'rb'))\n",
    "results = pickle.load(open('./data/results.pkl', 'rb'))\n",
    "players = pickle.load(open('./data/players.pkl', 'rb'))"
   ]
  },
  {
   "cell_type": "code",
   "execution_count": 4,
   "metadata": {},
   "outputs": [
    {
     "data": {
      "text/plain": [
       "[(4772, 'Синхрон северных стран. Зимний выпуск'),\n",
       " (4973, 'Балтийский Берег. 3 игра'),\n",
       " (4974, 'Балтийский Берег. 4 игра'),\n",
       " (4975, 'Балтийский Берег. 5 игра'),\n",
       " (4986, 'ОВСЧ. 6 этап')]"
      ]
     },
     "execution_count": 4,
     "metadata": {},
     "output_type": "execute_result"
    }
   ],
   "source": [
    "[ (k, v['name']) for k,v in tournaments.items() if v['dateStart'][:4] == '2019' ][:5]"
   ]
  },
  {
   "cell_type": "code",
   "execution_count": 196,
   "metadata": {},
   "outputs": [
    {
     "data": {
      "text/plain": [
       "(533, 622, 687, 418)"
      ]
     },
     "execution_count": 196,
     "metadata": {},
     "output_type": "execute_result"
    }
   ],
   "source": [
    "len([ (k, v['name']) for k,v in tournaments.items() if v['dateStart'][:4] == '2017' ]), \\\n",
    "len([ (k, v['name']) for k,v in tournaments.items() if v['dateStart'][:4] == '2018' ]), \\\n",
    "len([ (k, v['name']) for k,v in tournaments.items() if v['dateStart'][:4] == '2019' ]), \\\n",
    "len([ (k, v['name']) for k,v in tournaments.items() if v['dateStart'][:4] == '2020' ]),"
   ]
  },
  {
   "cell_type": "code",
   "execution_count": 6,
   "metadata": {},
   "outputs": [
    {
     "data": {
      "text/plain": [
       "{'dateEnd': '2019-05-19T18:00:00+03:00',\n",
       " 'dateStart': '2019-05-18T12:00:00+03:00',\n",
       " 'id': 5465,\n",
       " 'name': 'Чемпионат России',\n",
       " 'orgcommittee': [{'id': 31038,\n",
       "   'name': 'Владимир',\n",
       "   'patronymic': 'Владимирович',\n",
       "   'surname': 'Сушков'},\n",
       "  {'id': 26469,\n",
       "   'name': 'Алексей',\n",
       "   'patronymic': 'Владимирович',\n",
       "   'surname': 'Рабин'},\n",
       "  {'id': 25882,\n",
       "   'name': 'Максим',\n",
       "   'patronymic': 'Оскарович',\n",
       "   'surname': 'Поташев'},\n",
       "  {'id': 144,\n",
       "   'name': 'Сергей',\n",
       "   'patronymic': 'Леонидович',\n",
       "   'surname': 'Абрамов'}],\n",
       " 'questionQty': {'1': 15, '2': 15, '3': 15, '4': 15, '5': 15, '6': 15},\n",
       " 'season': '/seasons/52',\n",
       " 'synchData': None,\n",
       " 'type': {'id': 2, 'name': 'Обычный'}}"
      ]
     },
     "execution_count": 6,
     "metadata": {},
     "output_type": "execute_result"
    }
   ],
   "source": [
    "tournaments[5465]"
   ]
  },
  {
   "cell_type": "code",
   "execution_count": 7,
   "metadata": {},
   "outputs": [
    {
     "data": {
      "text/plain": [
       "('010111101111010110001000111101011010111011000111111111110011110100001010101111111111011110',\n",
       " [28751, 30152, 30270, 27822, 27403, 4270])"
      ]
     },
     "execution_count": 7,
     "metadata": {},
     "output_type": "execute_result"
    }
   ],
   "source": [
    "results[5465][0]['mask'], [p['player']['id'] for p in results[5465][0]['teamMembers']]"
   ]
  },
  {
   "cell_type": "code",
   "execution_count": 8,
   "metadata": {},
   "outputs": [],
   "source": [
    "# for team in results[5465]:\n",
    "#     summ = sum([int(s) for s in team['mask']])\n",
    "#     print(team['mask'], [p['player']['id'] for p in team['teamMembers']], summ)"
   ]
  },
  {
   "cell_type": "code",
   "execution_count": 186,
   "metadata": {},
   "outputs": [
    {
     "ename": "KeyError",
     "evalue": "6731",
     "output_type": "error",
     "traceback": [
      "\u001b[0;31m---------------------------------------------------------------------------\u001b[0m",
      "\u001b[0;31mKeyError\u001b[0m                                  Traceback (most recent call last)",
      "\u001b[0;32m<ipython-input-186-e70928833ff5>\u001b[0m in \u001b[0;36m<module>\u001b[0;34m()\u001b[0m\n\u001b[0;32m----> 1\u001b[0;31m \u001b[0mtournaments\u001b[0m\u001b[0;34m[\u001b[0m\u001b[0;36m6731\u001b[0m\u001b[0;34m]\u001b[0m\u001b[0;34m\u001b[0m\u001b[0;34m\u001b[0m\u001b[0m\n\u001b[0m",
      "\u001b[0;31mKeyError\u001b[0m: 6731"
     ]
    }
   ],
   "source": [
    "tournaments[6731]"
   ]
  },
  {
   "cell_type": "markdown",
   "metadata": {},
   "source": [
    "----"
   ]
  },
  {
   "cell_type": "code",
   "execution_count": 9,
   "metadata": {},
   "outputs": [
    {
     "name": "stdout",
     "output_type": "stream",
     "text": [
      "CPU times: user 2.6 s, sys: 55.2 ms, total: 2.65 s\n",
      "Wall time: 2.7 s\n"
     ]
    }
   ],
   "source": [
    "%%time\n",
    "rows = []\n",
    "for game_id in results:\n",
    "\n",
    "    if tournaments[game_id]['dateStart'][:4] not in ['2019']:\n",
    "        continue\n",
    "\n",
    "    try:\n",
    "        for team in results[game_id]:\n",
    "            team_name = team['team']['name']\n",
    "            position = team['position']\n",
    "            team_id = team['team']['id']\n",
    "            player_ids = sorted([p['player']['id'] for p in team['teamMembers']])\n",
    "            team_mask = team['mask']\n",
    "            tournaments_type = tournaments[game_id]['type']['name']\n",
    "            tournaments_questionQty = tournaments[game_id]['questionQty']\n",
    "            date_start = tournaments[game_id]['dateStart'][:10]\n",
    "            \n",
    "            rows.append((game_id, date_start, team_id, player_ids, team_mask, position, tournaments_type, tournaments_questionQty))\n",
    "            \n",
    "    except Exception as e:\n",
    "        #print(game_id, e)\n",
    "        continue"
   ]
  },
  {
   "cell_type": "code",
   "execution_count": 10,
   "metadata": {},
   "outputs": [],
   "source": [
    "df = pd.DataFrame(rows)"
   ]
  },
  {
   "cell_type": "code",
   "execution_count": 11,
   "metadata": {
    "scrolled": true
   },
   "outputs": [
    {
     "data": {
      "text/plain": [
       "(86638, 8)"
      ]
     },
     "execution_count": 11,
     "metadata": {},
     "output_type": "execute_result"
    }
   ],
   "source": [
    "df.shape"
   ]
  },
  {
   "cell_type": "code",
   "execution_count": 12,
   "metadata": {
    "scrolled": true
   },
   "outputs": [
    {
     "data": {
      "text/html": [
       "<div>\n",
       "<style scoped>\n",
       "    .dataframe tbody tr th:only-of-type {\n",
       "        vertical-align: middle;\n",
       "    }\n",
       "\n",
       "    .dataframe tbody tr th {\n",
       "        vertical-align: top;\n",
       "    }\n",
       "\n",
       "    .dataframe thead th {\n",
       "        text-align: right;\n",
       "    }\n",
       "</style>\n",
       "<table border=\"1\" class=\"dataframe\">\n",
       "  <thead>\n",
       "    <tr style=\"text-align: right;\">\n",
       "      <th></th>\n",
       "      <th>0</th>\n",
       "      <th>1</th>\n",
       "      <th>2</th>\n",
       "      <th>3</th>\n",
       "      <th>4</th>\n",
       "      <th>5</th>\n",
       "      <th>6</th>\n",
       "      <th>7</th>\n",
       "    </tr>\n",
       "  </thead>\n",
       "  <tbody>\n",
       "    <tr>\n",
       "      <th>0</th>\n",
       "      <td>4772</td>\n",
       "      <td>2019-01-05</td>\n",
       "      <td>45556</td>\n",
       "      <td>[6212, 15456, 18036, 18332, 22799, 26089]</td>\n",
       "      <td>111111111011111110111111111100010010</td>\n",
       "      <td>1.0</td>\n",
       "      <td>Синхрон</td>\n",
       "      <td>{'1': 12, '2': 12, '3': 12}</td>\n",
       "    </tr>\n",
       "    <tr>\n",
       "      <th>1</th>\n",
       "      <td>4772</td>\n",
       "      <td>2019-01-05</td>\n",
       "      <td>1030</td>\n",
       "      <td>[1584, 1585, 10998, 16206, 40840]</td>\n",
       "      <td>111111111011110100101111011001011010</td>\n",
       "      <td>5.5</td>\n",
       "      <td>Синхрон</td>\n",
       "      <td>{'1': 12, '2': 12, '3': 12}</td>\n",
       "    </tr>\n",
       "    <tr>\n",
       "      <th>2</th>\n",
       "      <td>4772</td>\n",
       "      <td>2019-01-05</td>\n",
       "      <td>4252</td>\n",
       "      <td>[10187, 18168, 21060, 23513, 31332, 35850]</td>\n",
       "      <td>111111111011110101101111001011110000</td>\n",
       "      <td>5.5</td>\n",
       "      <td>Синхрон</td>\n",
       "      <td>{'1': 12, '2': 12, '3': 12}</td>\n",
       "    </tr>\n",
       "  </tbody>\n",
       "</table>\n",
       "</div>"
      ],
      "text/plain": [
       "      0           1      2                                           3  \\\n",
       "0  4772  2019-01-05  45556   [6212, 15456, 18036, 18332, 22799, 26089]   \n",
       "1  4772  2019-01-05   1030           [1584, 1585, 10998, 16206, 40840]   \n",
       "2  4772  2019-01-05   4252  [10187, 18168, 21060, 23513, 31332, 35850]   \n",
       "\n",
       "                                      4    5        6  \\\n",
       "0  111111111011111110111111111100010010  1.0  Синхрон   \n",
       "1  111111111011110100101111011001011010  5.5  Синхрон   \n",
       "2  111111111011110101101111001011110000  5.5  Синхрон   \n",
       "\n",
       "                             7  \n",
       "0  {'1': 12, '2': 12, '3': 12}  \n",
       "1  {'1': 12, '2': 12, '3': 12}  \n",
       "2  {'1': 12, '2': 12, '3': 12}  "
      ]
     },
     "execution_count": 12,
     "metadata": {},
     "output_type": "execute_result"
    }
   ],
   "source": [
    "df.head(3)"
   ]
  },
  {
   "cell_type": "code",
   "execution_count": 13,
   "metadata": {
    "scrolled": true
   },
   "outputs": [],
   "source": [
    "df.columns = ['game_id', 'date_start', 'team_id', 'team', 'tmask', 'team_position', 'type', 'questionQty']"
   ]
  },
  {
   "cell_type": "code",
   "execution_count": 14,
   "metadata": {
    "scrolled": false
   },
   "outputs": [
    {
     "data": {
      "text/html": [
       "<div>\n",
       "<style scoped>\n",
       "    .dataframe tbody tr th:only-of-type {\n",
       "        vertical-align: middle;\n",
       "    }\n",
       "\n",
       "    .dataframe tbody tr th {\n",
       "        vertical-align: top;\n",
       "    }\n",
       "\n",
       "    .dataframe thead th {\n",
       "        text-align: right;\n",
       "    }\n",
       "</style>\n",
       "<table border=\"1\" class=\"dataframe\">\n",
       "  <thead>\n",
       "    <tr style=\"text-align: right;\">\n",
       "      <th></th>\n",
       "      <th>game_id</th>\n",
       "      <th>date_start</th>\n",
       "      <th>team_id</th>\n",
       "      <th>team</th>\n",
       "      <th>tmask</th>\n",
       "      <th>team_position</th>\n",
       "      <th>type</th>\n",
       "      <th>questionQty</th>\n",
       "    </tr>\n",
       "  </thead>\n",
       "  <tbody>\n",
       "    <tr>\n",
       "      <th>0</th>\n",
       "      <td>4772</td>\n",
       "      <td>2019-01-05</td>\n",
       "      <td>45556</td>\n",
       "      <td>[6212, 15456, 18036, 18332, 22799, 26089]</td>\n",
       "      <td>111111111011111110111111111100010010</td>\n",
       "      <td>1.0</td>\n",
       "      <td>Синхрон</td>\n",
       "      <td>{'1': 12, '2': 12, '3': 12}</td>\n",
       "    </tr>\n",
       "    <tr>\n",
       "      <th>1</th>\n",
       "      <td>4772</td>\n",
       "      <td>2019-01-05</td>\n",
       "      <td>1030</td>\n",
       "      <td>[1584, 1585, 10998, 16206, 40840]</td>\n",
       "      <td>111111111011110100101111011001011010</td>\n",
       "      <td>5.5</td>\n",
       "      <td>Синхрон</td>\n",
       "      <td>{'1': 12, '2': 12, '3': 12}</td>\n",
       "    </tr>\n",
       "    <tr>\n",
       "      <th>2</th>\n",
       "      <td>4772</td>\n",
       "      <td>2019-01-05</td>\n",
       "      <td>4252</td>\n",
       "      <td>[10187, 18168, 21060, 23513, 31332, 35850]</td>\n",
       "      <td>111111111011110101101111001011110000</td>\n",
       "      <td>5.5</td>\n",
       "      <td>Синхрон</td>\n",
       "      <td>{'1': 12, '2': 12, '3': 12}</td>\n",
       "    </tr>\n",
       "  </tbody>\n",
       "</table>\n",
       "</div>"
      ],
      "text/plain": [
       "   game_id  date_start  team_id                                        team  \\\n",
       "0     4772  2019-01-05    45556   [6212, 15456, 18036, 18332, 22799, 26089]   \n",
       "1     4772  2019-01-05     1030           [1584, 1585, 10998, 16206, 40840]   \n",
       "2     4772  2019-01-05     4252  [10187, 18168, 21060, 23513, 31332, 35850]   \n",
       "\n",
       "                                  tmask  team_position     type  \\\n",
       "0  111111111011111110111111111100010010            1.0  Синхрон   \n",
       "1  111111111011110100101111011001011010            5.5  Синхрон   \n",
       "2  111111111011110101101111001011110000            5.5  Синхрон   \n",
       "\n",
       "                   questionQty  \n",
       "0  {'1': 12, '2': 12, '3': 12}  \n",
       "1  {'1': 12, '2': 12, '3': 12}  \n",
       "2  {'1': 12, '2': 12, '3': 12}  "
      ]
     },
     "execution_count": 14,
     "metadata": {},
     "output_type": "execute_result"
    }
   ],
   "source": [
    "df.head(3)"
   ]
  },
  {
   "cell_type": "markdown",
   "metadata": {},
   "source": [
    "#### Немного чистки: \n",
    "\n",
    "заменить '?' на 0, 'X' на ''\n",
    "\n",
    "Команды, у которых длина маски меньше положенного - заполняем знаком 'N' ('no data')\n",
    "\n",
    "то есть неполную маску 101101010111001 мы превращаем в 101101010111001NNNNNNNNNNNNNNNNNNNNN"
   ]
  },
  {
   "cell_type": "code",
   "execution_count": null,
   "metadata": {},
   "outputs": [],
   "source": [
    "%%time\n",
    "df = df[df.team.apply(len) != 0]\n",
    "df = df[df.tmask.notnull()]\n",
    "\n",
    "df.date_start = pd.to_datetime(df.date_start)\n",
    "\n",
    "df.tmask = df.tmask.str.replace('?', '0')    # заменяем на ноль \n",
    "df.tmask = df.tmask.str.replace('X', '')     # 'X' - удаляем, т.к. у всех других команд на этом месте всегда тоже 'X'\n",
    "\n",
    "df['tmask_sum'] = df.tmask.apply(lambda x: sum([int(s) for s in x ]))\n",
    "\n",
    "# будем использовать как фичу\n",
    "dd = {'Синхрон': '1', 'Асинхрон': '2', 'Обычный': '3', 'Общий зачёт': '3', 'Строго синхронный': '1'}\n",
    "df.type = df.type.map(dd).fillna('1').astype(int)\n",
    "\n",
    "# # 16 турниров, где у команд неодинаковая длина маски\n",
    "# # турниры: [5462, 5553, 5554, 5703, 5705, 5760, 5864, 6026, 6085, 6090, 6249, 6254, 6255, 6265, 6307, 6308]\n",
    "df['tmask_len'] = df.tmask.apply(len) \n",
    "zz = df.groupby('game_id').tmask_len.nunique().loc[lambda x: x != 1]\n",
    "# можно удалить, но тогда теряем 10% датасета!\n",
    "# df = df[~df.game_id.isin(zz.index)]\n",
    "# поэтому мы будем заполнять символом N - No data\n",
    "# то есть неполную маску 101101010111001 мы превращаем в 101101010111001NNNNNNNNNNNNNNNNNNNNN\n",
    "df['tmask_max_len'] = df.game_id.map( df.groupby('game_id').tmask_len.max() )\n",
    "condition = df.game_id.isin(zz.index)\n",
    "df.loc[condition, 'tmask'] = df[condition].tmask.str.pad(width=999, side='right', fillchar='N')\n",
    "df.loc[condition, 'tmask'] = df[condition].apply(lambda x: x.tmask[:x.tmask_max_len], axis=1)"
   ]
  },
  {
   "cell_type": "code",
   "execution_count": null,
   "metadata": {},
   "outputs": [],
   "source": [
    "df.head()"
   ]
  },
  {
   "cell_type": "code",
   "execution_count": null,
   "metadata": {},
   "outputs": [],
   "source": []
  },
  {
   "cell_type": "markdown",
   "metadata": {},
   "source": [
    "перейдем от представления турнир-команда к представлению турнир-игрок"
   ]
  },
  {
   "cell_type": "code",
   "execution_count": null,
   "metadata": {},
   "outputs": [],
   "source": [
    "%%time\n",
    "\n",
    "# df2 = df[['game_id', 'date_start', 'team_id', 'team', 'tmask', 'team_position']].copy()\n",
    "df2 = df.copy()\n",
    "\n",
    "df2 = df2.explode('team')\n",
    "\n",
    "df2 = df2.rename(columns={'team': 'player_id'})\n",
    "\n",
    "df2['tmask_list'] = df2.tmask.apply(lambda x: [(question_id, y) for question_id, y in enumerate(x)])\n",
    "# df2 = df2.drop(['tmask'], axis=1)"
   ]
  },
  {
   "cell_type": "code",
   "execution_count": null,
   "metadata": {},
   "outputs": [],
   "source": [
    "df2.head()"
   ]
  },
  {
   "cell_type": "code",
   "execution_count": null,
   "metadata": {},
   "outputs": [],
   "source": []
  },
  {
   "cell_type": "code",
   "execution_count": null,
   "metadata": {},
   "outputs": [],
   "source": [
    "def tmask_1_rate(x):\n",
    "    \"\"\" процент единичек \"\"\"\n",
    "    try: \n",
    "        mask_to_int = [int(i) for i in x if i != 'N']\n",
    "        sum_ones = sum(mask_to_int)\n",
    "        len_mask = len(mask_to_int)\n",
    "        return sum_ones / len_mask\n",
    "    except: \n",
    "        return np.NaN"
   ]
  },
  {
   "cell_type": "code",
   "execution_count": null,
   "metadata": {},
   "outputs": [],
   "source": [
    "def tmask_N_rate(x):\n",
    "    \"\"\" процент где вопрос это 'N' \"\"\"\n",
    "    mask_to_int = sum([1 for i in x if i == 'N'])\n",
    "    return mask_to_int / len(x)"
   ]
  },
  {
   "cell_type": "code",
   "execution_count": null,
   "metadata": {},
   "outputs": [],
   "source": [
    "%%time\n",
    "df2['questions_hit_rate'] = df2.tmask.apply(tmask_1_rate)\n",
    "df2['questions_N_rate'] = df2.tmask.apply(tmask_N_rate)"
   ]
  },
  {
   "cell_type": "code",
   "execution_count": null,
   "metadata": {},
   "outputs": [],
   "source": [
    "df2['relative_team_position'] = df2.team_position / df2.game_id.map( df2.groupby('game_id').team_id.nunique() )"
   ]
  },
  {
   "cell_type": "markdown",
   "metadata": {},
   "source": [
    "### questionQty\n",
    "\n",
    "Вопросы разделены на несколько стадий, обычно 12 + 12 + 12 , но иногда бывает 15+15+15 или 36 + 36 + 36 + 36 + 36 + 36 и др.\n",
    "\n",
    "Посчитаем по каждой стадии процент верных ответов т.к. есть гипотеза что первая стадия чуть проще чем последняя."
   ]
  },
  {
   "cell_type": "code",
   "execution_count": null,
   "metadata": {},
   "outputs": [],
   "source": [
    "df2.questionQty.astype(str).value_counts()[:20]"
   ]
  },
  {
   "cell_type": "code",
   "execution_count": null,
   "metadata": {},
   "outputs": [],
   "source": [
    "condition = df2.questionQty.apply(len) > 0\n",
    "df2.loc[condition, 'tmask_p1'] = df2.loc[condition, 'tmask'].apply(lambda x: x[: len(x) // 3])\n",
    "df2.loc[condition, 'tmask_p2'] = df2.loc[condition, 'tmask'].apply(lambda x: x[len(x) // 3 : 2 * len(x) // 3])\n",
    "df2.loc[condition, 'tmask_p3'] = df2.loc[condition, 'tmask'].apply(lambda x: x[2 * len(x) // 3 :])\n",
    "\n",
    "condition = df2.questionQty.apply(len) % 2\n",
    "df2.loc[condition, 'tmask_p1'] = df2.loc[condition, 'tmask'].apply(lambda x: x[: len(x) //2 ])\n",
    "df2.loc[condition, 'tmask_p3'] = df2.loc[condition, 'tmask'].apply(lambda x: x[len(x) // 2 :])\n",
    "\n",
    "condition = df2.questionQty.apply(len) % 4 == 0\n",
    "df2.loc[condition, 'tmask_p1'] = df2.loc[condition, 'tmask'].apply(lambda x: x[: len(x) // 4])\n",
    "df2.loc[condition, 'tmask_p2'] = df2.loc[condition, 'tmask'].apply(lambda x: x[len(x) // 4 : 2 * len(x) // 4])\n",
    "df2.loc[condition, 'tmask_p2'] = df2.loc[condition, 'tmask'].apply(lambda x: x[len(x) // 4 : 3 * len(x) // 4])\n",
    "df2.loc[condition, 'tmask_p3'] = df2.loc[condition, 'tmask'].apply(lambda x: x[3 * len(x) // 4 :])\n",
    "\n",
    "condition = df2.questionQty.apply(len) % 3 == 0\n",
    "df2.loc[condition, 'tmask_p1'] = df2.loc[condition, 'tmask'].apply(lambda x: x[: len(x) // 3])\n",
    "df2.loc[condition, 'tmask_p2'] = df2.loc[condition, 'tmask'].apply(lambda x: x[len(x) // 3 : 2 * len(x) // 3])\n",
    "df2.loc[condition, 'tmask_p3'] = df2.loc[condition, 'tmask'].apply(lambda x: x[2 * len(x) // 3 :])\n",
    "\n",
    "condition = df2.questionQty.apply(len) % 5 == 0\n",
    "df2.loc[condition, 'tmask_p1'] = df2.loc[condition, 'tmask'].apply(lambda x: x[: len(x) // 5 ])\n",
    "df2.loc[condition, 'tmask_p1'] = df2.loc[condition, 'tmask'].apply(lambda x: x[len(x) // 5 : 2 * len(x) // 5 ])\n",
    "df2.loc[condition, 'tmask_p2'] = df2.loc[condition, 'tmask'].apply(lambda x: x[2 * len(x) // 5 : 3 * len(x) // 5 ])\n",
    "df2.loc[condition, 'tmask_p3'] = df2.loc[condition, 'tmask'].apply(lambda x: x[3 * len(x) // 5 : 4 * len(x) // 5 ])\n",
    "df2.loc[condition, 'tmask_p3'] = df2.loc[condition, 'tmask'].apply(lambda x: x[4 * len(x) // 5  :])"
   ]
  },
  {
   "cell_type": "code",
   "execution_count": null,
   "metadata": {},
   "outputs": [],
   "source": [
    "df2['tmask_p1_hit_rate'] = df2.tmask_p1.apply(tmask_1_rate)\n",
    "df2['tmask_p2_hit_rate'] = df2.tmask_p2.apply(tmask_1_rate)\n",
    "df2['tmask_p3_hit_rate'] = df2.tmask_p3.apply(tmask_1_rate)"
   ]
  },
  {
   "cell_type": "code",
   "execution_count": null,
   "metadata": {},
   "outputs": [],
   "source": [
    "df2['tmask_len'] = df2.tmask.apply(len)"
   ]
  },
  {
   "cell_type": "code",
   "execution_count": null,
   "metadata": {},
   "outputs": [],
   "source": []
  },
  {
   "cell_type": "markdown",
   "metadata": {},
   "source": [
    "### Ключевой момент: джойн сам с собой + условие на дату, чтобы не заглядывать в будущее. То есть для каждой игры считаем статистики только по прошлым турнирам"
   ]
  },
  {
   "cell_type": "code",
   "execution_count": null,
   "metadata": {},
   "outputs": [],
   "source": [
    "%%time\n",
    "dff = pd.merge(df2[['date_start', 'player_id', 'game_id']], df2, on='player_id')\n",
    "dff = dff[dff.date_start_y < dff.date_start_x]"
   ]
  },
  {
   "cell_type": "code",
   "execution_count": null,
   "metadata": {},
   "outputs": [],
   "source": [
    "dff.head(5)"
   ]
  },
  {
   "cell_type": "code",
   "execution_count": null,
   "metadata": {},
   "outputs": [],
   "source": []
  },
  {
   "cell_type": "markdown",
   "metadata": {},
   "source": [
    "Считаем характеристики силы игрока \n",
    "\n",
    "- сколько турниров отыграл\n",
    "- средний процент верных ответов\n",
    "- какие занимал позиции в рейтинге: средняя, самая лучшая, самая худшая, дисперсия (aka постоянство)\n",
    "- процент ответов по разным ступеням/стадиям вопросов (questionQty: part1 - part2 - part3)"
   ]
  },
  {
   "cell_type": "code",
   "execution_count": null,
   "metadata": {},
   "outputs": [],
   "source": []
  },
  {
   "cell_type": "code",
   "execution_count": null,
   "metadata": {
    "scrolled": true
   },
   "outputs": [],
   "source": [
    "%%time\n",
    "player_feats = \\\n",
    "    dff.groupby(['player_id', 'date_start_x', 'game_id_x'])\\\n",
    "       .agg(\n",
    "            {'game_id_y': ['count']\n",
    "            , 'team_position': ['max', 'min', 'mean', 'std']\n",
    "            , 'relative_team_position': ['max', 'min', 'mean', 'std']\n",
    "            , 'questions_hit_rate': ['min', 'max', 'mean', 'std']\n",
    "            , 'questions_N_rate': ['min', 'max', 'mean', 'std']\n",
    "            , 'tmask_p1_hit_rate': ['min', 'max', 'mean', 'std']\n",
    "            , 'tmask_p2_hit_rate': ['min', 'max', 'mean', 'std']\n",
    "            , 'tmask_p3_hit_rate': ['min', 'max', 'mean', 'std']\n",
    "           })"
   ]
  },
  {
   "cell_type": "code",
   "execution_count": null,
   "metadata": {},
   "outputs": [],
   "source": [
    "player_feats.columns = [i + '_' + j for i,j in player_feats.columns]"
   ]
  },
  {
   "cell_type": "code",
   "execution_count": null,
   "metadata": {},
   "outputs": [],
   "source": [
    "player_feats = player_feats.reset_index()"
   ]
  },
  {
   "cell_type": "code",
   "execution_count": null,
   "metadata": {},
   "outputs": [],
   "source": [
    "player_feats = player_feats.drop_duplicates(['player_id', 'date_start_x'])\n",
    "player_feats = player_feats.drop('game_id_x', axis=1)"
   ]
  },
  {
   "cell_type": "code",
   "execution_count": null,
   "metadata": {},
   "outputs": [],
   "source": [
    "player_feats.head(11)"
   ]
  },
  {
   "cell_type": "code",
   "execution_count": null,
   "metadata": {},
   "outputs": [],
   "source": [
    "player_feats = player_feats.rename(columns={'date_start_x':'date_start'})"
   ]
  },
  {
   "cell_type": "markdown",
   "metadata": {},
   "source": [
    "### Отлично, для каждого игрока получили признаки как он играл в прошлом. "
   ]
  },
  {
   "cell_type": "markdown",
   "metadata": {},
   "source": [
    "### Создадим матрицу игрок-вопрос и заджойним к ней фичи игрока"
   ]
  },
  {
   "cell_type": "code",
   "execution_count": null,
   "metadata": {},
   "outputs": [],
   "source": [
    "%%time\n",
    "usecols = ['game_id', 'date_start', 'team_id', 'player_id', 'tmask', 'tmask_list', 'team_position', 'type']\n",
    "X = df2[usecols].explode('tmask_list')\n",
    "\n",
    "X['question_id'] = X.tmask_list.apply(lambda x: x[0])\n",
    "X['y'] = X.tmask_list.apply(lambda x: x[1])\n",
    "\n",
    "X = X.drop(['tmask_list', 'tmask'], axis=1)\n",
    "\n",
    "# удалить из обучения вопросы где не было ответа (No data)\n",
    "X = X[X.y != 'N']\n",
    "X.y = X.y.astype(int)"
   ]
  },
  {
   "cell_type": "code",
   "execution_count": null,
   "metadata": {},
   "outputs": [],
   "source": [
    "X.head(15)"
   ]
  },
  {
   "cell_type": "code",
   "execution_count": null,
   "metadata": {},
   "outputs": [],
   "source": [
    "X.shape"
   ]
  },
  {
   "cell_type": "code",
   "execution_count": null,
   "metadata": {},
   "outputs": [],
   "source": [
    "%%time\n",
    "X = pd.merge(X, player_feats, on=['player_id', 'date_start'], how='left')"
   ]
  },
  {
   "cell_type": "code",
   "execution_count": null,
   "metadata": {},
   "outputs": [],
   "source": [
    "X.shape"
   ]
  },
  {
   "cell_type": "code",
   "execution_count": null,
   "metadata": {
    "scrolled": true
   },
   "outputs": [],
   "source": [
    "import gc; gc.collect()"
   ]
  },
  {
   "cell_type": "code",
   "execution_count": null,
   "metadata": {},
   "outputs": [],
   "source": []
  },
  {
   "cell_type": "markdown",
   "metadata": {},
   "source": [
    "### Теперь сделаем фичи сложности вопроса"
   ]
  },
  {
   "cell_type": "markdown",
   "metadata": {},
   "source": [
    "Для вопросов посчитаем лишь один признак: априорную вероятность верного ответа"
   ]
  },
  {
   "cell_type": "code",
   "execution_count": null,
   "metadata": {},
   "outputs": [],
   "source": [
    "question_feats = X.groupby(['game_id', 'question_id']).agg({'y': ['mean']}) \n",
    "question_feats.columns = ['question_hit_rate']"
   ]
  },
  {
   "cell_type": "code",
   "execution_count": null,
   "metadata": {},
   "outputs": [],
   "source": [
    "question_feats.head(8)"
   ]
  },
  {
   "cell_type": "code",
   "execution_count": null,
   "metadata": {},
   "outputs": [],
   "source": []
  },
  {
   "cell_type": "code",
   "execution_count": null,
   "metadata": {},
   "outputs": [],
   "source": [
    "sns.distplot(question_feats.question_hit_rate)"
   ]
  },
  {
   "cell_type": "code",
   "execution_count": null,
   "metadata": {},
   "outputs": [],
   "source": [
    "print('Априорная вероятность верного ответа в целом по всем вопросам и турнирам', question_feats.question_hit_rate.mean() )"
   ]
  },
  {
   "cell_type": "code",
   "execution_count": 45,
   "metadata": {},
   "outputs": [
    {
     "name": "stdout",
     "output_type": "stream",
     "text": [
      "CPU times: user 10.6 s, sys: 6.09 s, total: 16.7 s\n",
      "Wall time: 16.8 s\n"
     ]
    }
   ],
   "source": [
    "%%time\n",
    "X = pd.merge(question_feats, X, on=['game_id','question_id'], how='left')"
   ]
  },
  {
   "cell_type": "code",
   "execution_count": 46,
   "metadata": {},
   "outputs": [
    {
     "data": {
      "text/plain": [
       "(20911025, 38)"
      ]
     },
     "execution_count": 46,
     "metadata": {},
     "output_type": "execute_result"
    }
   ],
   "source": [
    "X.shape"
   ]
  },
  {
   "cell_type": "code",
   "execution_count": 47,
   "metadata": {},
   "outputs": [
    {
     "data": {
      "text/html": [
       "<div>\n",
       "<style scoped>\n",
       "    .dataframe tbody tr th:only-of-type {\n",
       "        vertical-align: middle;\n",
       "    }\n",
       "\n",
       "    .dataframe tbody tr th {\n",
       "        vertical-align: top;\n",
       "    }\n",
       "\n",
       "    .dataframe thead th {\n",
       "        text-align: right;\n",
       "    }\n",
       "</style>\n",
       "<table border=\"1\" class=\"dataframe\">\n",
       "  <thead>\n",
       "    <tr style=\"text-align: right;\">\n",
       "      <th></th>\n",
       "      <th>game_id</th>\n",
       "      <th>question_id</th>\n",
       "      <th>question_hit_rate</th>\n",
       "      <th>date_start</th>\n",
       "      <th>team_id</th>\n",
       "      <th>player_id</th>\n",
       "      <th>team_position</th>\n",
       "      <th>type</th>\n",
       "      <th>y</th>\n",
       "      <th>game_id_y_count</th>\n",
       "      <th>team_position_max</th>\n",
       "      <th>team_position_min</th>\n",
       "      <th>team_position_mean</th>\n",
       "      <th>team_position_std</th>\n",
       "      <th>relative_team_position_max</th>\n",
       "      <th>relative_team_position_min</th>\n",
       "      <th>relative_team_position_mean</th>\n",
       "      <th>relative_team_position_std</th>\n",
       "      <th>questions_hit_rate_min</th>\n",
       "      <th>questions_hit_rate_max</th>\n",
       "      <th>questions_hit_rate_mean</th>\n",
       "      <th>questions_hit_rate_std</th>\n",
       "      <th>questions_N_rate_min</th>\n",
       "      <th>questions_N_rate_max</th>\n",
       "      <th>questions_N_rate_mean</th>\n",
       "      <th>questions_N_rate_std</th>\n",
       "      <th>tmask_p1_hit_rate_min</th>\n",
       "      <th>tmask_p1_hit_rate_max</th>\n",
       "      <th>tmask_p1_hit_rate_mean</th>\n",
       "      <th>tmask_p1_hit_rate_std</th>\n",
       "      <th>tmask_p2_hit_rate_min</th>\n",
       "      <th>tmask_p2_hit_rate_max</th>\n",
       "      <th>tmask_p2_hit_rate_mean</th>\n",
       "      <th>tmask_p2_hit_rate_std</th>\n",
       "      <th>tmask_p3_hit_rate_min</th>\n",
       "      <th>tmask_p3_hit_rate_max</th>\n",
       "      <th>tmask_p3_hit_rate_mean</th>\n",
       "      <th>tmask_p3_hit_rate_std</th>\n",
       "    </tr>\n",
       "  </thead>\n",
       "  <tbody>\n",
       "    <tr>\n",
       "      <th>0</th>\n",
       "      <td>4772</td>\n",
       "      <td>0</td>\n",
       "      <td>0.892295</td>\n",
       "      <td>2019-01-05</td>\n",
       "      <td>45556</td>\n",
       "      <td>6212</td>\n",
       "      <td>1.0</td>\n",
       "      <td>1</td>\n",
       "      <td>1</td>\n",
       "      <td>1.0</td>\n",
       "      <td>2.0</td>\n",
       "      <td>2.0</td>\n",
       "      <td>2.0</td>\n",
       "      <td>NaN</td>\n",
       "      <td>0.026316</td>\n",
       "      <td>0.026316</td>\n",
       "      <td>0.026316</td>\n",
       "      <td>NaN</td>\n",
       "      <td>0.555556</td>\n",
       "      <td>0.555556</td>\n",
       "      <td>0.555556</td>\n",
       "      <td>NaN</td>\n",
       "      <td>0.0</td>\n",
       "      <td>0.0</td>\n",
       "      <td>0.0</td>\n",
       "      <td>NaN</td>\n",
       "      <td>0.666667</td>\n",
       "      <td>0.666667</td>\n",
       "      <td>0.666667</td>\n",
       "      <td>NaN</td>\n",
       "      <td>0.5</td>\n",
       "      <td>0.5</td>\n",
       "      <td>0.5</td>\n",
       "      <td>NaN</td>\n",
       "      <td>0.5</td>\n",
       "      <td>0.5</td>\n",
       "      <td>0.5</td>\n",
       "      <td>NaN</td>\n",
       "    </tr>\n",
       "    <tr>\n",
       "      <th>1</th>\n",
       "      <td>4772</td>\n",
       "      <td>0</td>\n",
       "      <td>0.892295</td>\n",
       "      <td>2019-01-05</td>\n",
       "      <td>45556</td>\n",
       "      <td>15456</td>\n",
       "      <td>1.0</td>\n",
       "      <td>1</td>\n",
       "      <td>1</td>\n",
       "      <td>NaN</td>\n",
       "      <td>NaN</td>\n",
       "      <td>NaN</td>\n",
       "      <td>NaN</td>\n",
       "      <td>NaN</td>\n",
       "      <td>NaN</td>\n",
       "      <td>NaN</td>\n",
       "      <td>NaN</td>\n",
       "      <td>NaN</td>\n",
       "      <td>NaN</td>\n",
       "      <td>NaN</td>\n",
       "      <td>NaN</td>\n",
       "      <td>NaN</td>\n",
       "      <td>NaN</td>\n",
       "      <td>NaN</td>\n",
       "      <td>NaN</td>\n",
       "      <td>NaN</td>\n",
       "      <td>NaN</td>\n",
       "      <td>NaN</td>\n",
       "      <td>NaN</td>\n",
       "      <td>NaN</td>\n",
       "      <td>NaN</td>\n",
       "      <td>NaN</td>\n",
       "      <td>NaN</td>\n",
       "      <td>NaN</td>\n",
       "      <td>NaN</td>\n",
       "      <td>NaN</td>\n",
       "      <td>NaN</td>\n",
       "      <td>NaN</td>\n",
       "    </tr>\n",
       "    <tr>\n",
       "      <th>2</th>\n",
       "      <td>4772</td>\n",
       "      <td>0</td>\n",
       "      <td>0.892295</td>\n",
       "      <td>2019-01-05</td>\n",
       "      <td>45556</td>\n",
       "      <td>18036</td>\n",
       "      <td>1.0</td>\n",
       "      <td>1</td>\n",
       "      <td>1</td>\n",
       "      <td>NaN</td>\n",
       "      <td>NaN</td>\n",
       "      <td>NaN</td>\n",
       "      <td>NaN</td>\n",
       "      <td>NaN</td>\n",
       "      <td>NaN</td>\n",
       "      <td>NaN</td>\n",
       "      <td>NaN</td>\n",
       "      <td>NaN</td>\n",
       "      <td>NaN</td>\n",
       "      <td>NaN</td>\n",
       "      <td>NaN</td>\n",
       "      <td>NaN</td>\n",
       "      <td>NaN</td>\n",
       "      <td>NaN</td>\n",
       "      <td>NaN</td>\n",
       "      <td>NaN</td>\n",
       "      <td>NaN</td>\n",
       "      <td>NaN</td>\n",
       "      <td>NaN</td>\n",
       "      <td>NaN</td>\n",
       "      <td>NaN</td>\n",
       "      <td>NaN</td>\n",
       "      <td>NaN</td>\n",
       "      <td>NaN</td>\n",
       "      <td>NaN</td>\n",
       "      <td>NaN</td>\n",
       "      <td>NaN</td>\n",
       "      <td>NaN</td>\n",
       "    </tr>\n",
       "  </tbody>\n",
       "</table>\n",
       "</div>"
      ],
      "text/plain": [
       "   game_id  question_id  question_hit_rate date_start  team_id player_id  \\\n",
       "0     4772            0           0.892295 2019-01-05    45556      6212   \n",
       "1     4772            0           0.892295 2019-01-05    45556     15456   \n",
       "2     4772            0           0.892295 2019-01-05    45556     18036   \n",
       "\n",
       "   team_position  type  y  game_id_y_count  team_position_max  \\\n",
       "0            1.0     1  1              1.0                2.0   \n",
       "1            1.0     1  1              NaN                NaN   \n",
       "2            1.0     1  1              NaN                NaN   \n",
       "\n",
       "   team_position_min  team_position_mean  team_position_std  \\\n",
       "0                2.0                 2.0                NaN   \n",
       "1                NaN                 NaN                NaN   \n",
       "2                NaN                 NaN                NaN   \n",
       "\n",
       "   relative_team_position_max  relative_team_position_min  \\\n",
       "0                    0.026316                    0.026316   \n",
       "1                         NaN                         NaN   \n",
       "2                         NaN                         NaN   \n",
       "\n",
       "   relative_team_position_mean  relative_team_position_std  \\\n",
       "0                     0.026316                         NaN   \n",
       "1                          NaN                         NaN   \n",
       "2                          NaN                         NaN   \n",
       "\n",
       "   questions_hit_rate_min  questions_hit_rate_max  questions_hit_rate_mean  \\\n",
       "0                0.555556                0.555556                 0.555556   \n",
       "1                     NaN                     NaN                      NaN   \n",
       "2                     NaN                     NaN                      NaN   \n",
       "\n",
       "   questions_hit_rate_std  questions_N_rate_min  questions_N_rate_max  \\\n",
       "0                     NaN                   0.0                   0.0   \n",
       "1                     NaN                   NaN                   NaN   \n",
       "2                     NaN                   NaN                   NaN   \n",
       "\n",
       "   questions_N_rate_mean  questions_N_rate_std  tmask_p1_hit_rate_min  \\\n",
       "0                    0.0                   NaN               0.666667   \n",
       "1                    NaN                   NaN                    NaN   \n",
       "2                    NaN                   NaN                    NaN   \n",
       "\n",
       "   tmask_p1_hit_rate_max  tmask_p1_hit_rate_mean  tmask_p1_hit_rate_std  \\\n",
       "0               0.666667                0.666667                    NaN   \n",
       "1                    NaN                     NaN                    NaN   \n",
       "2                    NaN                     NaN                    NaN   \n",
       "\n",
       "   tmask_p2_hit_rate_min  tmask_p2_hit_rate_max  tmask_p2_hit_rate_mean  \\\n",
       "0                    0.5                    0.5                     0.5   \n",
       "1                    NaN                    NaN                     NaN   \n",
       "2                    NaN                    NaN                     NaN   \n",
       "\n",
       "   tmask_p2_hit_rate_std  tmask_p3_hit_rate_min  tmask_p3_hit_rate_max  \\\n",
       "0                    NaN                    0.5                    0.5   \n",
       "1                    NaN                    NaN                    NaN   \n",
       "2                    NaN                    NaN                    NaN   \n",
       "\n",
       "   tmask_p3_hit_rate_mean  tmask_p3_hit_rate_std  \n",
       "0                     0.5                    NaN  \n",
       "1                     NaN                    NaN  \n",
       "2                     NaN                    NaN  "
      ]
     },
     "execution_count": 47,
     "metadata": {},
     "output_type": "execute_result"
    }
   ],
   "source": [
    "X.head(3)"
   ]
  },
  {
   "cell_type": "markdown",
   "metadata": {},
   "source": [
    "### fit model"
   ]
  },
  {
   "cell_type": "code",
   "execution_count": 48,
   "metadata": {},
   "outputs": [],
   "source": [
    "drops = ['player_id', 'y', 'game_id', 'date_start', 'team_id' ,'player_id', 'team_position', 'question_id']\n",
    "use_cols = [c for c in X.columns if c not in drops]\n",
    "all_features = list(X.head()[use_cols].columns)"
   ]
  },
  {
   "cell_type": "code",
   "execution_count": 49,
   "metadata": {},
   "outputs": [
    {
     "data": {
      "text/html": [
       "<div>\n",
       "<style scoped>\n",
       "    .dataframe tbody tr th:only-of-type {\n",
       "        vertical-align: middle;\n",
       "    }\n",
       "\n",
       "    .dataframe tbody tr th {\n",
       "        vertical-align: top;\n",
       "    }\n",
       "\n",
       "    .dataframe thead th {\n",
       "        text-align: right;\n",
       "    }\n",
       "</style>\n",
       "<table border=\"1\" class=\"dataframe\">\n",
       "  <thead>\n",
       "    <tr style=\"text-align: right;\">\n",
       "      <th></th>\n",
       "      <th>game_id</th>\n",
       "      <th>question_id</th>\n",
       "      <th>question_hit_rate</th>\n",
       "      <th>date_start</th>\n",
       "      <th>team_id</th>\n",
       "      <th>player_id</th>\n",
       "      <th>team_position</th>\n",
       "      <th>type</th>\n",
       "      <th>y</th>\n",
       "      <th>game_id_y_count</th>\n",
       "      <th>team_position_max</th>\n",
       "      <th>team_position_min</th>\n",
       "      <th>team_position_mean</th>\n",
       "      <th>team_position_std</th>\n",
       "      <th>relative_team_position_max</th>\n",
       "      <th>relative_team_position_min</th>\n",
       "      <th>relative_team_position_mean</th>\n",
       "      <th>relative_team_position_std</th>\n",
       "      <th>questions_hit_rate_min</th>\n",
       "      <th>questions_hit_rate_max</th>\n",
       "      <th>questions_hit_rate_mean</th>\n",
       "      <th>questions_hit_rate_std</th>\n",
       "      <th>questions_N_rate_min</th>\n",
       "      <th>questions_N_rate_max</th>\n",
       "      <th>questions_N_rate_mean</th>\n",
       "      <th>questions_N_rate_std</th>\n",
       "      <th>tmask_p1_hit_rate_min</th>\n",
       "      <th>tmask_p1_hit_rate_max</th>\n",
       "      <th>tmask_p1_hit_rate_mean</th>\n",
       "      <th>tmask_p1_hit_rate_std</th>\n",
       "      <th>tmask_p2_hit_rate_min</th>\n",
       "      <th>tmask_p2_hit_rate_max</th>\n",
       "      <th>tmask_p2_hit_rate_mean</th>\n",
       "      <th>tmask_p2_hit_rate_std</th>\n",
       "      <th>tmask_p3_hit_rate_min</th>\n",
       "      <th>tmask_p3_hit_rate_max</th>\n",
       "      <th>tmask_p3_hit_rate_mean</th>\n",
       "      <th>tmask_p3_hit_rate_std</th>\n",
       "    </tr>\n",
       "  </thead>\n",
       "  <tbody>\n",
       "    <tr>\n",
       "      <th>14178825</th>\n",
       "      <td>5822</td>\n",
       "      <td>22</td>\n",
       "      <td>0.637463</td>\n",
       "      <td>2019-12-12</td>\n",
       "      <td>69147</td>\n",
       "      <td>190704</td>\n",
       "      <td>475.0</td>\n",
       "      <td>1</td>\n",
       "      <td>1</td>\n",
       "      <td>48.0</td>\n",
       "      <td>1468.5</td>\n",
       "      <td>10.0</td>\n",
       "      <td>230.864583</td>\n",
       "      <td>280.285924</td>\n",
       "      <td>0.942623</td>\n",
       "      <td>0.147661</td>\n",
       "      <td>0.614678</td>\n",
       "      <td>0.209021</td>\n",
       "      <td>0.088889</td>\n",
       "      <td>0.777778</td>\n",
       "      <td>0.370065</td>\n",
       "      <td>0.152366</td>\n",
       "      <td>0.0</td>\n",
       "      <td>0.846154</td>\n",
       "      <td>0.054170</td>\n",
       "      <td>0.190046</td>\n",
       "      <td>0.000000</td>\n",
       "      <td>0.833333</td>\n",
       "      <td>0.389080</td>\n",
       "      <td>0.180839</td>\n",
       "      <td>0.000000</td>\n",
       "      <td>0.916667</td>\n",
       "      <td>0.373257</td>\n",
       "      <td>0.202149</td>\n",
       "      <td>0.000000</td>\n",
       "      <td>0.833333</td>\n",
       "      <td>0.353051</td>\n",
       "      <td>0.199722</td>\n",
       "    </tr>\n",
       "    <tr>\n",
       "      <th>9047409</th>\n",
       "      <td>5696</td>\n",
       "      <td>18</td>\n",
       "      <td>0.415877</td>\n",
       "      <td>2019-06-28</td>\n",
       "      <td>42453</td>\n",
       "      <td>82836</td>\n",
       "      <td>15.0</td>\n",
       "      <td>1</td>\n",
       "      <td>0</td>\n",
       "      <td>25.0</td>\n",
       "      <td>740.5</td>\n",
       "      <td>4.0</td>\n",
       "      <td>170.400000</td>\n",
       "      <td>189.404494</td>\n",
       "      <td>0.937151</td>\n",
       "      <td>0.046512</td>\n",
       "      <td>0.527127</td>\n",
       "      <td>0.265456</td>\n",
       "      <td>0.166667</td>\n",
       "      <td>0.769231</td>\n",
       "      <td>0.424110</td>\n",
       "      <td>0.177096</td>\n",
       "      <td>0.0</td>\n",
       "      <td>0.807692</td>\n",
       "      <td>0.058022</td>\n",
       "      <td>0.202224</td>\n",
       "      <td>0.083333</td>\n",
       "      <td>0.769231</td>\n",
       "      <td>0.451303</td>\n",
       "      <td>0.190007</td>\n",
       "      <td>0.083333</td>\n",
       "      <td>0.818182</td>\n",
       "      <td>0.424400</td>\n",
       "      <td>0.207429</td>\n",
       "      <td>0.083333</td>\n",
       "      <td>0.846154</td>\n",
       "      <td>0.395904</td>\n",
       "      <td>0.216933</td>\n",
       "    </tr>\n",
       "    <tr>\n",
       "      <th>758833</th>\n",
       "      <td>4986</td>\n",
       "      <td>34</td>\n",
       "      <td>0.533812</td>\n",
       "      <td>2019-02-15</td>\n",
       "      <td>66720</td>\n",
       "      <td>155806</td>\n",
       "      <td>421.0</td>\n",
       "      <td>1</td>\n",
       "      <td>0</td>\n",
       "      <td>5.0</td>\n",
       "      <td>786.5</td>\n",
       "      <td>27.0</td>\n",
       "      <td>336.000000</td>\n",
       "      <td>318.008058</td>\n",
       "      <td>0.850329</td>\n",
       "      <td>0.427035</td>\n",
       "      <td>0.683637</td>\n",
       "      <td>0.181428</td>\n",
       "      <td>0.305556</td>\n",
       "      <td>0.444444</td>\n",
       "      <td>0.355674</td>\n",
       "      <td>0.053448</td>\n",
       "      <td>0.0</td>\n",
       "      <td>0.000000</td>\n",
       "      <td>0.000000</td>\n",
       "      <td>0.000000</td>\n",
       "      <td>0.133333</td>\n",
       "      <td>0.416667</td>\n",
       "      <td>0.299394</td>\n",
       "      <td>0.110734</td>\n",
       "      <td>0.250000</td>\n",
       "      <td>0.416667</td>\n",
       "      <td>0.325000</td>\n",
       "      <td>0.061802</td>\n",
       "      <td>0.333333</td>\n",
       "      <td>0.583333</td>\n",
       "      <td>0.456667</td>\n",
       "      <td>0.116428</td>\n",
       "    </tr>\n",
       "    <tr>\n",
       "      <th>2764890</th>\n",
       "      <td>5156</td>\n",
       "      <td>14</td>\n",
       "      <td>0.378486</td>\n",
       "      <td>2019-05-10</td>\n",
       "      <td>71195</td>\n",
       "      <td>197329</td>\n",
       "      <td>113.0</td>\n",
       "      <td>1</td>\n",
       "      <td>0</td>\n",
       "      <td>NaN</td>\n",
       "      <td>NaN</td>\n",
       "      <td>NaN</td>\n",
       "      <td>NaN</td>\n",
       "      <td>NaN</td>\n",
       "      <td>NaN</td>\n",
       "      <td>NaN</td>\n",
       "      <td>NaN</td>\n",
       "      <td>NaN</td>\n",
       "      <td>NaN</td>\n",
       "      <td>NaN</td>\n",
       "      <td>NaN</td>\n",
       "      <td>NaN</td>\n",
       "      <td>NaN</td>\n",
       "      <td>NaN</td>\n",
       "      <td>NaN</td>\n",
       "      <td>NaN</td>\n",
       "      <td>NaN</td>\n",
       "      <td>NaN</td>\n",
       "      <td>NaN</td>\n",
       "      <td>NaN</td>\n",
       "      <td>NaN</td>\n",
       "      <td>NaN</td>\n",
       "      <td>NaN</td>\n",
       "      <td>NaN</td>\n",
       "      <td>NaN</td>\n",
       "      <td>NaN</td>\n",
       "      <td>NaN</td>\n",
       "      <td>NaN</td>\n",
       "    </tr>\n",
       "    <tr>\n",
       "      <th>16911179</th>\n",
       "      <td>5976</td>\n",
       "      <td>77</td>\n",
       "      <td>0.393939</td>\n",
       "      <td>2019-10-26</td>\n",
       "      <td>65571</td>\n",
       "      <td>210380</td>\n",
       "      <td>2.0</td>\n",
       "      <td>3</td>\n",
       "      <td>1</td>\n",
       "      <td>3.0</td>\n",
       "      <td>1760.0</td>\n",
       "      <td>679.5</td>\n",
       "      <td>1160.666667</td>\n",
       "      <td>549.856875</td>\n",
       "      <td>0.916667</td>\n",
       "      <td>0.338228</td>\n",
       "      <td>0.703602</td>\n",
       "      <td>0.317878</td>\n",
       "      <td>0.222222</td>\n",
       "      <td>0.346369</td>\n",
       "      <td>0.263604</td>\n",
       "      <td>0.071676</td>\n",
       "      <td>0.0</td>\n",
       "      <td>0.750000</td>\n",
       "      <td>0.305814</td>\n",
       "      <td>0.393682</td>\n",
       "      <td>0.222222</td>\n",
       "      <td>0.323944</td>\n",
       "      <td>0.265389</td>\n",
       "      <td>0.052578</td>\n",
       "      <td>0.250000</td>\n",
       "      <td>0.375000</td>\n",
       "      <td>0.312500</td>\n",
       "      <td>0.088388</td>\n",
       "      <td>0.166667</td>\n",
       "      <td>0.333333</td>\n",
       "      <td>0.250000</td>\n",
       "      <td>0.117851</td>\n",
       "    </tr>\n",
       "  </tbody>\n",
       "</table>\n",
       "</div>"
      ],
      "text/plain": [
       "          game_id  question_id  question_hit_rate date_start  team_id  \\\n",
       "14178825     5822           22           0.637463 2019-12-12    69147   \n",
       "9047409      5696           18           0.415877 2019-06-28    42453   \n",
       "758833       4986           34           0.533812 2019-02-15    66720   \n",
       "2764890      5156           14           0.378486 2019-05-10    71195   \n",
       "16911179     5976           77           0.393939 2019-10-26    65571   \n",
       "\n",
       "         player_id  team_position  type  y  game_id_y_count  \\\n",
       "14178825    190704          475.0     1  1             48.0   \n",
       "9047409      82836           15.0     1  0             25.0   \n",
       "758833      155806          421.0     1  0              5.0   \n",
       "2764890     197329          113.0     1  0              NaN   \n",
       "16911179    210380            2.0     3  1              3.0   \n",
       "\n",
       "          team_position_max  team_position_min  team_position_mean  \\\n",
       "14178825             1468.5               10.0          230.864583   \n",
       "9047409               740.5                4.0          170.400000   \n",
       "758833                786.5               27.0          336.000000   \n",
       "2764890                 NaN                NaN                 NaN   \n",
       "16911179             1760.0              679.5         1160.666667   \n",
       "\n",
       "          team_position_std  relative_team_position_max  \\\n",
       "14178825         280.285924                    0.942623   \n",
       "9047409          189.404494                    0.937151   \n",
       "758833           318.008058                    0.850329   \n",
       "2764890                 NaN                         NaN   \n",
       "16911179         549.856875                    0.916667   \n",
       "\n",
       "          relative_team_position_min  relative_team_position_mean  \\\n",
       "14178825                    0.147661                     0.614678   \n",
       "9047409                     0.046512                     0.527127   \n",
       "758833                      0.427035                     0.683637   \n",
       "2764890                          NaN                          NaN   \n",
       "16911179                    0.338228                     0.703602   \n",
       "\n",
       "          relative_team_position_std  questions_hit_rate_min  \\\n",
       "14178825                    0.209021                0.088889   \n",
       "9047409                     0.265456                0.166667   \n",
       "758833                      0.181428                0.305556   \n",
       "2764890                          NaN                     NaN   \n",
       "16911179                    0.317878                0.222222   \n",
       "\n",
       "          questions_hit_rate_max  questions_hit_rate_mean  \\\n",
       "14178825                0.777778                 0.370065   \n",
       "9047409                 0.769231                 0.424110   \n",
       "758833                  0.444444                 0.355674   \n",
       "2764890                      NaN                      NaN   \n",
       "16911179                0.346369                 0.263604   \n",
       "\n",
       "          questions_hit_rate_std  questions_N_rate_min  questions_N_rate_max  \\\n",
       "14178825                0.152366                   0.0              0.846154   \n",
       "9047409                 0.177096                   0.0              0.807692   \n",
       "758833                  0.053448                   0.0              0.000000   \n",
       "2764890                      NaN                   NaN                   NaN   \n",
       "16911179                0.071676                   0.0              0.750000   \n",
       "\n",
       "          questions_N_rate_mean  questions_N_rate_std  tmask_p1_hit_rate_min  \\\n",
       "14178825               0.054170              0.190046               0.000000   \n",
       "9047409                0.058022              0.202224               0.083333   \n",
       "758833                 0.000000              0.000000               0.133333   \n",
       "2764890                     NaN                   NaN                    NaN   \n",
       "16911179               0.305814              0.393682               0.222222   \n",
       "\n",
       "          tmask_p1_hit_rate_max  tmask_p1_hit_rate_mean  \\\n",
       "14178825               0.833333                0.389080   \n",
       "9047409                0.769231                0.451303   \n",
       "758833                 0.416667                0.299394   \n",
       "2764890                     NaN                     NaN   \n",
       "16911179               0.323944                0.265389   \n",
       "\n",
       "          tmask_p1_hit_rate_std  tmask_p2_hit_rate_min  tmask_p2_hit_rate_max  \\\n",
       "14178825               0.180839               0.000000               0.916667   \n",
       "9047409                0.190007               0.083333               0.818182   \n",
       "758833                 0.110734               0.250000               0.416667   \n",
       "2764890                     NaN                    NaN                    NaN   \n",
       "16911179               0.052578               0.250000               0.375000   \n",
       "\n",
       "          tmask_p2_hit_rate_mean  tmask_p2_hit_rate_std  \\\n",
       "14178825                0.373257               0.202149   \n",
       "9047409                 0.424400               0.207429   \n",
       "758833                  0.325000               0.061802   \n",
       "2764890                      NaN                    NaN   \n",
       "16911179                0.312500               0.088388   \n",
       "\n",
       "          tmask_p3_hit_rate_min  tmask_p3_hit_rate_max  \\\n",
       "14178825               0.000000               0.833333   \n",
       "9047409                0.083333               0.846154   \n",
       "758833                 0.333333               0.583333   \n",
       "2764890                     NaN                    NaN   \n",
       "16911179               0.166667               0.333333   \n",
       "\n",
       "          tmask_p3_hit_rate_mean  tmask_p3_hit_rate_std  \n",
       "14178825                0.353051               0.199722  \n",
       "9047409                 0.395904               0.216933  \n",
       "758833                  0.456667               0.116428  \n",
       "2764890                      NaN                    NaN  \n",
       "16911179                0.250000               0.117851  "
      ]
     },
     "execution_count": 49,
     "metadata": {},
     "output_type": "execute_result"
    }
   ],
   "source": [
    "X.sample(5)"
   ]
  },
  {
   "cell_type": "code",
   "execution_count": null,
   "metadata": {},
   "outputs": [],
   "source": []
  },
  {
   "cell_type": "markdown",
   "metadata": {},
   "source": [
    "Убираем из обучения игроков, которые ранее не сыграли ни одной игры т.к. там скорее всего получится что-то тривиальное, типа априорная вероятность правильного ответа для человека без рейтинга"
   ]
  },
  {
   "cell_type": "code",
   "execution_count": 50,
   "metadata": {},
   "outputs": [
    {
     "name": "stdout",
     "output_type": "stream",
     "text": [
      "(20911025, 38)\n",
      "(17346457, 38)\n"
     ]
    }
   ],
   "source": [
    "print(X.shape)\n",
    "X.game_id_y_count = X.game_id_y_count.fillna(0)\n",
    "X = X[X.game_id_y_count != 0]\n",
    "print(X.shape)"
   ]
  },
  {
   "cell_type": "code",
   "execution_count": null,
   "metadata": {},
   "outputs": [],
   "source": []
  },
  {
   "cell_type": "code",
   "execution_count": null,
   "metadata": {},
   "outputs": [],
   "source": []
  },
  {
   "cell_type": "code",
   "execution_count": 51,
   "metadata": {},
   "outputs": [],
   "source": [
    "fillna_dict = {}"
   ]
  },
  {
   "cell_type": "markdown",
   "metadata": {},
   "source": [
    "для фич std заполним пропуски нулем"
   ]
  },
  {
   "cell_type": "code",
   "execution_count": 52,
   "metadata": {},
   "outputs": [],
   "source": [
    "std_cols = [i for i in X.columns if i.endswith('std')]\n",
    "\n",
    "for col in std_cols:\n",
    "    X[col] = X[col].fillna(0)\n",
    "    fillna_dict[col] = 0"
   ]
  },
  {
   "cell_type": "markdown",
   "metadata": {},
   "source": [
    "для остальных колонок заполним пропуски средним значением"
   ]
  },
  {
   "cell_type": "code",
   "execution_count": 53,
   "metadata": {},
   "outputs": [],
   "source": [
    "for col in all_features:\n",
    "    mean = X[col].mean()\n",
    "    X[col] = X[col].fillna(mean)\n",
    "    fillna_dict[col] = mean"
   ]
  },
  {
   "cell_type": "code",
   "execution_count": 54,
   "metadata": {},
   "outputs": [
    {
     "name": "stdout",
     "output_type": "stream",
     "text": [
      "CPU times: user 3.17 s, sys: 6.44 s, total: 9.61 s\n",
      "Wall time: 27.8 s\n"
     ]
    }
   ],
   "source": [
    "%%time\n",
    "X.to_hdf('./data/X_logreg.h5', key='qwerty')"
   ]
  },
  {
   "cell_type": "markdown",
   "metadata": {},
   "source": [
    "----"
   ]
  },
  {
   "cell_type": "code",
   "execution_count": 55,
   "metadata": {},
   "outputs": [
    {
     "name": "stdout",
     "output_type": "stream",
     "text": [
      "CPU times: user 8.17 s, sys: 4.52 s, total: 12.7 s\n",
      "Wall time: 12.7 s\n"
     ]
    }
   ],
   "source": [
    "%%time\n",
    "X = pd.read_hdf('./data/X_logreg.h5')"
   ]
  },
  {
   "cell_type": "code",
   "execution_count": 56,
   "metadata": {},
   "outputs": [],
   "source": [
    "drops = ['player_id', 'y', 'game_id', 'date_start', 'team_id' ,'player_id', 'team_position', 'question_id']\n",
    "use_cols = [c for c in X.columns if c not in drops]\n",
    "all_features = list(X.head()[use_cols].columns)"
   ]
  },
  {
   "cell_type": "code",
   "execution_count": 57,
   "metadata": {},
   "outputs": [],
   "source": [
    "from sklearn.linear_model import LogisticRegression"
   ]
  },
  {
   "cell_type": "code",
   "execution_count": 58,
   "metadata": {},
   "outputs": [
    {
     "data": {
      "text/html": [
       "<div>\n",
       "<style scoped>\n",
       "    .dataframe tbody tr th:only-of-type {\n",
       "        vertical-align: middle;\n",
       "    }\n",
       "\n",
       "    .dataframe tbody tr th {\n",
       "        vertical-align: top;\n",
       "    }\n",
       "\n",
       "    .dataframe thead th {\n",
       "        text-align: right;\n",
       "    }\n",
       "</style>\n",
       "<table border=\"1\" class=\"dataframe\">\n",
       "  <thead>\n",
       "    <tr style=\"text-align: right;\">\n",
       "      <th></th>\n",
       "      <th>question_hit_rate</th>\n",
       "      <th>type</th>\n",
       "      <th>game_id_y_count</th>\n",
       "      <th>team_position_max</th>\n",
       "      <th>team_position_min</th>\n",
       "      <th>team_position_mean</th>\n",
       "      <th>team_position_std</th>\n",
       "      <th>relative_team_position_max</th>\n",
       "      <th>relative_team_position_min</th>\n",
       "      <th>relative_team_position_mean</th>\n",
       "      <th>relative_team_position_std</th>\n",
       "      <th>questions_hit_rate_min</th>\n",
       "      <th>questions_hit_rate_max</th>\n",
       "      <th>questions_hit_rate_mean</th>\n",
       "      <th>questions_hit_rate_std</th>\n",
       "      <th>questions_N_rate_min</th>\n",
       "      <th>questions_N_rate_max</th>\n",
       "      <th>questions_N_rate_mean</th>\n",
       "      <th>questions_N_rate_std</th>\n",
       "      <th>tmask_p1_hit_rate_min</th>\n",
       "      <th>tmask_p1_hit_rate_max</th>\n",
       "      <th>tmask_p1_hit_rate_mean</th>\n",
       "      <th>tmask_p1_hit_rate_std</th>\n",
       "      <th>tmask_p2_hit_rate_min</th>\n",
       "      <th>tmask_p2_hit_rate_max</th>\n",
       "      <th>tmask_p2_hit_rate_mean</th>\n",
       "      <th>tmask_p2_hit_rate_std</th>\n",
       "      <th>tmask_p3_hit_rate_min</th>\n",
       "      <th>tmask_p3_hit_rate_max</th>\n",
       "      <th>tmask_p3_hit_rate_mean</th>\n",
       "      <th>tmask_p3_hit_rate_std</th>\n",
       "    </tr>\n",
       "  </thead>\n",
       "  <tbody>\n",
       "    <tr>\n",
       "      <th>0</th>\n",
       "      <td>0.892295</td>\n",
       "      <td>1</td>\n",
       "      <td>1.0</td>\n",
       "      <td>2.0</td>\n",
       "      <td>2.0</td>\n",
       "      <td>2.00</td>\n",
       "      <td>0.00000</td>\n",
       "      <td>0.026316</td>\n",
       "      <td>0.026316</td>\n",
       "      <td>0.026316</td>\n",
       "      <td>0.000000</td>\n",
       "      <td>0.555556</td>\n",
       "      <td>0.555556</td>\n",
       "      <td>0.555556</td>\n",
       "      <td>0.000000</td>\n",
       "      <td>0.0</td>\n",
       "      <td>0.0</td>\n",
       "      <td>0.0</td>\n",
       "      <td>0.0</td>\n",
       "      <td>0.666667</td>\n",
       "      <td>0.666667</td>\n",
       "      <td>0.666667</td>\n",
       "      <td>0.000000</td>\n",
       "      <td>0.500000</td>\n",
       "      <td>0.500000</td>\n",
       "      <td>0.500000</td>\n",
       "      <td>0.000000</td>\n",
       "      <td>0.500000</td>\n",
       "      <td>0.500000</td>\n",
       "      <td>0.500000</td>\n",
       "      <td>0.000000</td>\n",
       "    </tr>\n",
       "    <tr>\n",
       "      <th>29</th>\n",
       "      <td>0.892295</td>\n",
       "      <td>1</td>\n",
       "      <td>1.0</td>\n",
       "      <td>1.0</td>\n",
       "      <td>1.0</td>\n",
       "      <td>1.00</td>\n",
       "      <td>0.00000</td>\n",
       "      <td>0.013158</td>\n",
       "      <td>0.013158</td>\n",
       "      <td>0.013158</td>\n",
       "      <td>0.000000</td>\n",
       "      <td>0.611111</td>\n",
       "      <td>0.611111</td>\n",
       "      <td>0.611111</td>\n",
       "      <td>0.000000</td>\n",
       "      <td>0.0</td>\n",
       "      <td>0.0</td>\n",
       "      <td>0.0</td>\n",
       "      <td>0.0</td>\n",
       "      <td>0.750000</td>\n",
       "      <td>0.750000</td>\n",
       "      <td>0.750000</td>\n",
       "      <td>0.000000</td>\n",
       "      <td>0.583333</td>\n",
       "      <td>0.583333</td>\n",
       "      <td>0.583333</td>\n",
       "      <td>0.000000</td>\n",
       "      <td>0.500000</td>\n",
       "      <td>0.500000</td>\n",
       "      <td>0.500000</td>\n",
       "      <td>0.000000</td>\n",
       "    </tr>\n",
       "    <tr>\n",
       "      <th>34</th>\n",
       "      <td>0.892295</td>\n",
       "      <td>1</td>\n",
       "      <td>1.0</td>\n",
       "      <td>24.0</td>\n",
       "      <td>24.0</td>\n",
       "      <td>24.00</td>\n",
       "      <td>0.00000</td>\n",
       "      <td>0.134831</td>\n",
       "      <td>0.134831</td>\n",
       "      <td>0.134831</td>\n",
       "      <td>0.000000</td>\n",
       "      <td>0.638889</td>\n",
       "      <td>0.638889</td>\n",
       "      <td>0.638889</td>\n",
       "      <td>0.000000</td>\n",
       "      <td>0.0</td>\n",
       "      <td>0.0</td>\n",
       "      <td>0.0</td>\n",
       "      <td>0.0</td>\n",
       "      <td>0.416667</td>\n",
       "      <td>0.416667</td>\n",
       "      <td>0.416667</td>\n",
       "      <td>0.000000</td>\n",
       "      <td>0.666667</td>\n",
       "      <td>0.666667</td>\n",
       "      <td>0.666667</td>\n",
       "      <td>0.000000</td>\n",
       "      <td>0.833333</td>\n",
       "      <td>0.833333</td>\n",
       "      <td>0.833333</td>\n",
       "      <td>0.000000</td>\n",
       "    </tr>\n",
       "    <tr>\n",
       "      <th>35</th>\n",
       "      <td>0.892295</td>\n",
       "      <td>1</td>\n",
       "      <td>2.0</td>\n",
       "      <td>75.0</td>\n",
       "      <td>20.5</td>\n",
       "      <td>47.75</td>\n",
       "      <td>38.53732</td>\n",
       "      <td>0.421348</td>\n",
       "      <td>0.269737</td>\n",
       "      <td>0.345543</td>\n",
       "      <td>0.107206</td>\n",
       "      <td>0.333333</td>\n",
       "      <td>0.500000</td>\n",
       "      <td>0.416667</td>\n",
       "      <td>0.117851</td>\n",
       "      <td>0.0</td>\n",
       "      <td>0.0</td>\n",
       "      <td>0.0</td>\n",
       "      <td>0.0</td>\n",
       "      <td>0.166667</td>\n",
       "      <td>0.416667</td>\n",
       "      <td>0.291667</td>\n",
       "      <td>0.176777</td>\n",
       "      <td>0.250000</td>\n",
       "      <td>0.416667</td>\n",
       "      <td>0.333333</td>\n",
       "      <td>0.117851</td>\n",
       "      <td>0.583333</td>\n",
       "      <td>0.666667</td>\n",
       "      <td>0.625000</td>\n",
       "      <td>0.058926</td>\n",
       "    </tr>\n",
       "    <tr>\n",
       "      <th>37</th>\n",
       "      <td>0.892295</td>\n",
       "      <td>1</td>\n",
       "      <td>1.0</td>\n",
       "      <td>24.0</td>\n",
       "      <td>24.0</td>\n",
       "      <td>24.00</td>\n",
       "      <td>0.00000</td>\n",
       "      <td>0.134831</td>\n",
       "      <td>0.134831</td>\n",
       "      <td>0.134831</td>\n",
       "      <td>0.000000</td>\n",
       "      <td>0.638889</td>\n",
       "      <td>0.638889</td>\n",
       "      <td>0.638889</td>\n",
       "      <td>0.000000</td>\n",
       "      <td>0.0</td>\n",
       "      <td>0.0</td>\n",
       "      <td>0.0</td>\n",
       "      <td>0.0</td>\n",
       "      <td>0.416667</td>\n",
       "      <td>0.416667</td>\n",
       "      <td>0.416667</td>\n",
       "      <td>0.000000</td>\n",
       "      <td>0.666667</td>\n",
       "      <td>0.666667</td>\n",
       "      <td>0.666667</td>\n",
       "      <td>0.000000</td>\n",
       "      <td>0.833333</td>\n",
       "      <td>0.833333</td>\n",
       "      <td>0.833333</td>\n",
       "      <td>0.000000</td>\n",
       "    </tr>\n",
       "    <tr>\n",
       "      <th>38</th>\n",
       "      <td>0.892295</td>\n",
       "      <td>1</td>\n",
       "      <td>1.0</td>\n",
       "      <td>24.0</td>\n",
       "      <td>24.0</td>\n",
       "      <td>24.00</td>\n",
       "      <td>0.00000</td>\n",
       "      <td>0.134831</td>\n",
       "      <td>0.134831</td>\n",
       "      <td>0.134831</td>\n",
       "      <td>0.000000</td>\n",
       "      <td>0.638889</td>\n",
       "      <td>0.638889</td>\n",
       "      <td>0.638889</td>\n",
       "      <td>0.000000</td>\n",
       "      <td>0.0</td>\n",
       "      <td>0.0</td>\n",
       "      <td>0.0</td>\n",
       "      <td>0.0</td>\n",
       "      <td>0.416667</td>\n",
       "      <td>0.416667</td>\n",
       "      <td>0.416667</td>\n",
       "      <td>0.000000</td>\n",
       "      <td>0.666667</td>\n",
       "      <td>0.666667</td>\n",
       "      <td>0.666667</td>\n",
       "      <td>0.000000</td>\n",
       "      <td>0.833333</td>\n",
       "      <td>0.833333</td>\n",
       "      <td>0.833333</td>\n",
       "      <td>0.000000</td>\n",
       "    </tr>\n",
       "    <tr>\n",
       "      <th>39</th>\n",
       "      <td>0.892295</td>\n",
       "      <td>1</td>\n",
       "      <td>1.0</td>\n",
       "      <td>24.0</td>\n",
       "      <td>24.0</td>\n",
       "      <td>24.00</td>\n",
       "      <td>0.00000</td>\n",
       "      <td>0.134831</td>\n",
       "      <td>0.134831</td>\n",
       "      <td>0.134831</td>\n",
       "      <td>0.000000</td>\n",
       "      <td>0.638889</td>\n",
       "      <td>0.638889</td>\n",
       "      <td>0.638889</td>\n",
       "      <td>0.000000</td>\n",
       "      <td>0.0</td>\n",
       "      <td>0.0</td>\n",
       "      <td>0.0</td>\n",
       "      <td>0.0</td>\n",
       "      <td>0.416667</td>\n",
       "      <td>0.416667</td>\n",
       "      <td>0.416667</td>\n",
       "      <td>0.000000</td>\n",
       "      <td>0.666667</td>\n",
       "      <td>0.666667</td>\n",
       "      <td>0.666667</td>\n",
       "      <td>0.000000</td>\n",
       "      <td>0.833333</td>\n",
       "      <td>0.833333</td>\n",
       "      <td>0.833333</td>\n",
       "      <td>0.000000</td>\n",
       "    </tr>\n",
       "    <tr>\n",
       "      <th>41</th>\n",
       "      <td>0.892295</td>\n",
       "      <td>1</td>\n",
       "      <td>1.0</td>\n",
       "      <td>5.5</td>\n",
       "      <td>5.5</td>\n",
       "      <td>5.50</td>\n",
       "      <td>0.00000</td>\n",
       "      <td>0.072368</td>\n",
       "      <td>0.072368</td>\n",
       "      <td>0.072368</td>\n",
       "      <td>0.000000</td>\n",
       "      <td>0.472222</td>\n",
       "      <td>0.472222</td>\n",
       "      <td>0.472222</td>\n",
       "      <td>0.000000</td>\n",
       "      <td>0.0</td>\n",
       "      <td>0.0</td>\n",
       "      <td>0.0</td>\n",
       "      <td>0.0</td>\n",
       "      <td>0.416667</td>\n",
       "      <td>0.416667</td>\n",
       "      <td>0.416667</td>\n",
       "      <td>0.000000</td>\n",
       "      <td>0.416667</td>\n",
       "      <td>0.416667</td>\n",
       "      <td>0.416667</td>\n",
       "      <td>0.000000</td>\n",
       "      <td>0.583333</td>\n",
       "      <td>0.583333</td>\n",
       "      <td>0.583333</td>\n",
       "      <td>0.000000</td>\n",
       "    </tr>\n",
       "    <tr>\n",
       "      <th>42</th>\n",
       "      <td>0.892295</td>\n",
       "      <td>1</td>\n",
       "      <td>2.0</td>\n",
       "      <td>5.5</td>\n",
       "      <td>5.5</td>\n",
       "      <td>5.50</td>\n",
       "      <td>0.00000</td>\n",
       "      <td>0.072368</td>\n",
       "      <td>0.030899</td>\n",
       "      <td>0.051634</td>\n",
       "      <td>0.029323</td>\n",
       "      <td>0.472222</td>\n",
       "      <td>0.722222</td>\n",
       "      <td>0.597222</td>\n",
       "      <td>0.176777</td>\n",
       "      <td>0.0</td>\n",
       "      <td>0.0</td>\n",
       "      <td>0.0</td>\n",
       "      <td>0.0</td>\n",
       "      <td>0.416667</td>\n",
       "      <td>0.750000</td>\n",
       "      <td>0.583333</td>\n",
       "      <td>0.235702</td>\n",
       "      <td>0.416667</td>\n",
       "      <td>0.750000</td>\n",
       "      <td>0.583333</td>\n",
       "      <td>0.235702</td>\n",
       "      <td>0.583333</td>\n",
       "      <td>0.666667</td>\n",
       "      <td>0.625000</td>\n",
       "      <td>0.058926</td>\n",
       "    </tr>\n",
       "    <tr>\n",
       "      <th>43</th>\n",
       "      <td>0.892295</td>\n",
       "      <td>1</td>\n",
       "      <td>1.0</td>\n",
       "      <td>5.5</td>\n",
       "      <td>5.5</td>\n",
       "      <td>5.50</td>\n",
       "      <td>0.00000</td>\n",
       "      <td>0.072368</td>\n",
       "      <td>0.072368</td>\n",
       "      <td>0.072368</td>\n",
       "      <td>0.000000</td>\n",
       "      <td>0.472222</td>\n",
       "      <td>0.472222</td>\n",
       "      <td>0.472222</td>\n",
       "      <td>0.000000</td>\n",
       "      <td>0.0</td>\n",
       "      <td>0.0</td>\n",
       "      <td>0.0</td>\n",
       "      <td>0.0</td>\n",
       "      <td>0.416667</td>\n",
       "      <td>0.416667</td>\n",
       "      <td>0.416667</td>\n",
       "      <td>0.000000</td>\n",
       "      <td>0.416667</td>\n",
       "      <td>0.416667</td>\n",
       "      <td>0.416667</td>\n",
       "      <td>0.000000</td>\n",
       "      <td>0.583333</td>\n",
       "      <td>0.583333</td>\n",
       "      <td>0.583333</td>\n",
       "      <td>0.000000</td>\n",
       "    </tr>\n",
       "  </tbody>\n",
       "</table>\n",
       "</div>"
      ],
      "text/plain": [
       "    question_hit_rate  type  game_id_y_count  team_position_max  \\\n",
       "0            0.892295     1              1.0                2.0   \n",
       "29           0.892295     1              1.0                1.0   \n",
       "34           0.892295     1              1.0               24.0   \n",
       "35           0.892295     1              2.0               75.0   \n",
       "37           0.892295     1              1.0               24.0   \n",
       "38           0.892295     1              1.0               24.0   \n",
       "39           0.892295     1              1.0               24.0   \n",
       "41           0.892295     1              1.0                5.5   \n",
       "42           0.892295     1              2.0                5.5   \n",
       "43           0.892295     1              1.0                5.5   \n",
       "\n",
       "    team_position_min  team_position_mean  team_position_std  \\\n",
       "0                 2.0                2.00            0.00000   \n",
       "29                1.0                1.00            0.00000   \n",
       "34               24.0               24.00            0.00000   \n",
       "35               20.5               47.75           38.53732   \n",
       "37               24.0               24.00            0.00000   \n",
       "38               24.0               24.00            0.00000   \n",
       "39               24.0               24.00            0.00000   \n",
       "41                5.5                5.50            0.00000   \n",
       "42                5.5                5.50            0.00000   \n",
       "43                5.5                5.50            0.00000   \n",
       "\n",
       "    relative_team_position_max  relative_team_position_min  \\\n",
       "0                     0.026316                    0.026316   \n",
       "29                    0.013158                    0.013158   \n",
       "34                    0.134831                    0.134831   \n",
       "35                    0.421348                    0.269737   \n",
       "37                    0.134831                    0.134831   \n",
       "38                    0.134831                    0.134831   \n",
       "39                    0.134831                    0.134831   \n",
       "41                    0.072368                    0.072368   \n",
       "42                    0.072368                    0.030899   \n",
       "43                    0.072368                    0.072368   \n",
       "\n",
       "    relative_team_position_mean  relative_team_position_std  \\\n",
       "0                      0.026316                    0.000000   \n",
       "29                     0.013158                    0.000000   \n",
       "34                     0.134831                    0.000000   \n",
       "35                     0.345543                    0.107206   \n",
       "37                     0.134831                    0.000000   \n",
       "38                     0.134831                    0.000000   \n",
       "39                     0.134831                    0.000000   \n",
       "41                     0.072368                    0.000000   \n",
       "42                     0.051634                    0.029323   \n",
       "43                     0.072368                    0.000000   \n",
       "\n",
       "    questions_hit_rate_min  questions_hit_rate_max  questions_hit_rate_mean  \\\n",
       "0                 0.555556                0.555556                 0.555556   \n",
       "29                0.611111                0.611111                 0.611111   \n",
       "34                0.638889                0.638889                 0.638889   \n",
       "35                0.333333                0.500000                 0.416667   \n",
       "37                0.638889                0.638889                 0.638889   \n",
       "38                0.638889                0.638889                 0.638889   \n",
       "39                0.638889                0.638889                 0.638889   \n",
       "41                0.472222                0.472222                 0.472222   \n",
       "42                0.472222                0.722222                 0.597222   \n",
       "43                0.472222                0.472222                 0.472222   \n",
       "\n",
       "    questions_hit_rate_std  questions_N_rate_min  questions_N_rate_max  \\\n",
       "0                 0.000000                   0.0                   0.0   \n",
       "29                0.000000                   0.0                   0.0   \n",
       "34                0.000000                   0.0                   0.0   \n",
       "35                0.117851                   0.0                   0.0   \n",
       "37                0.000000                   0.0                   0.0   \n",
       "38                0.000000                   0.0                   0.0   \n",
       "39                0.000000                   0.0                   0.0   \n",
       "41                0.000000                   0.0                   0.0   \n",
       "42                0.176777                   0.0                   0.0   \n",
       "43                0.000000                   0.0                   0.0   \n",
       "\n",
       "    questions_N_rate_mean  questions_N_rate_std  tmask_p1_hit_rate_min  \\\n",
       "0                     0.0                   0.0               0.666667   \n",
       "29                    0.0                   0.0               0.750000   \n",
       "34                    0.0                   0.0               0.416667   \n",
       "35                    0.0                   0.0               0.166667   \n",
       "37                    0.0                   0.0               0.416667   \n",
       "38                    0.0                   0.0               0.416667   \n",
       "39                    0.0                   0.0               0.416667   \n",
       "41                    0.0                   0.0               0.416667   \n",
       "42                    0.0                   0.0               0.416667   \n",
       "43                    0.0                   0.0               0.416667   \n",
       "\n",
       "    tmask_p1_hit_rate_max  tmask_p1_hit_rate_mean  tmask_p1_hit_rate_std  \\\n",
       "0                0.666667                0.666667               0.000000   \n",
       "29               0.750000                0.750000               0.000000   \n",
       "34               0.416667                0.416667               0.000000   \n",
       "35               0.416667                0.291667               0.176777   \n",
       "37               0.416667                0.416667               0.000000   \n",
       "38               0.416667                0.416667               0.000000   \n",
       "39               0.416667                0.416667               0.000000   \n",
       "41               0.416667                0.416667               0.000000   \n",
       "42               0.750000                0.583333               0.235702   \n",
       "43               0.416667                0.416667               0.000000   \n",
       "\n",
       "    tmask_p2_hit_rate_min  tmask_p2_hit_rate_max  tmask_p2_hit_rate_mean  \\\n",
       "0                0.500000               0.500000                0.500000   \n",
       "29               0.583333               0.583333                0.583333   \n",
       "34               0.666667               0.666667                0.666667   \n",
       "35               0.250000               0.416667                0.333333   \n",
       "37               0.666667               0.666667                0.666667   \n",
       "38               0.666667               0.666667                0.666667   \n",
       "39               0.666667               0.666667                0.666667   \n",
       "41               0.416667               0.416667                0.416667   \n",
       "42               0.416667               0.750000                0.583333   \n",
       "43               0.416667               0.416667                0.416667   \n",
       "\n",
       "    tmask_p2_hit_rate_std  tmask_p3_hit_rate_min  tmask_p3_hit_rate_max  \\\n",
       "0                0.000000               0.500000               0.500000   \n",
       "29               0.000000               0.500000               0.500000   \n",
       "34               0.000000               0.833333               0.833333   \n",
       "35               0.117851               0.583333               0.666667   \n",
       "37               0.000000               0.833333               0.833333   \n",
       "38               0.000000               0.833333               0.833333   \n",
       "39               0.000000               0.833333               0.833333   \n",
       "41               0.000000               0.583333               0.583333   \n",
       "42               0.235702               0.583333               0.666667   \n",
       "43               0.000000               0.583333               0.583333   \n",
       "\n",
       "    tmask_p3_hit_rate_mean  tmask_p3_hit_rate_std  \n",
       "0                 0.500000               0.000000  \n",
       "29                0.500000               0.000000  \n",
       "34                0.833333               0.000000  \n",
       "35                0.625000               0.058926  \n",
       "37                0.833333               0.000000  \n",
       "38                0.833333               0.000000  \n",
       "39                0.833333               0.000000  \n",
       "41                0.583333               0.000000  \n",
       "42                0.625000               0.058926  \n",
       "43                0.583333               0.000000  "
      ]
     },
     "execution_count": 58,
     "metadata": {},
     "output_type": "execute_result"
    }
   ],
   "source": [
    "X.head(10)[all_features]"
   ]
  },
  {
   "cell_type": "code",
   "execution_count": 59,
   "metadata": {},
   "outputs": [
    {
     "data": {
      "text/plain": [
       "array([1, 1, 1, ..., 0, 0, 0])"
      ]
     },
     "execution_count": 59,
     "metadata": {},
     "output_type": "execute_result"
    }
   ],
   "source": [
    "X.y.values"
   ]
  },
  {
   "cell_type": "code",
   "execution_count": 60,
   "metadata": {},
   "outputs": [
    {
     "name": "stdout",
     "output_type": "stream",
     "text": [
      "2021-04-16 23:57:39.490948\n"
     ]
    }
   ],
   "source": [
    "import datetime\n",
    "print(datetime.datetime.now())"
   ]
  },
  {
   "cell_type": "code",
   "execution_count": 61,
   "metadata": {},
   "outputs": [
    {
     "name": "stdout",
     "output_type": "stream",
     "text": [
      "CPU times: user 2h 27min 19s, sys: 14min 18s, total: 2h 41min 38s\n",
      "Wall time: 2h 35min\n"
     ]
    }
   ],
   "source": [
    "%%time\n",
    "lr = LogisticRegression(max_iter=1000, n_jobs=1)\n",
    "lr.fit(X[all_features].values, X.y.values)"
   ]
  },
  {
   "cell_type": "code",
   "execution_count": 62,
   "metadata": {},
   "outputs": [
    {
     "data": {
      "text/plain": [
       "[(5.240661007879158, 'question_hit_rate'),\n",
       " (0.06476280527707987, 'type'),\n",
       " (0.0010290978770671432, 'game_id_y_count'),\n",
       " (-6.587867290069657e-05, 'team_position_max'),\n",
       " (0.0008968462158393122, 'team_position_min'),\n",
       " (-0.0009790850899672277, 'team_position_mean'),\n",
       " (0.00042593807115461226, 'team_position_std'),\n",
       " (0.15980561806018764, 'relative_team_position_max'),\n",
       " (-0.5758715990329295, 'relative_team_position_min'),\n",
       " (-1.6939708922900651, 'relative_team_position_mean'),\n",
       " (0.03490467756754931, 'relative_team_position_std'),\n",
       " (-0.022270717085329253, 'questions_hit_rate_min'),\n",
       " (-0.05369105944082633, 'questions_hit_rate_max'),\n",
       " (0.28467161497980026, 'questions_hit_rate_mean'),\n",
       " (-0.040419909843831585, 'questions_hit_rate_std'),\n",
       " (-0.027226749777632172, 'questions_N_rate_min'),\n",
       " (0.06350875824537207, 'questions_N_rate_max'),\n",
       " (0.010402387432406587, 'questions_N_rate_mean'),\n",
       " (0.049731423391614106, 'questions_N_rate_std'),\n",
       " (0.026139221271922686, 'tmask_p1_hit_rate_min'),\n",
       " (0.0050074054277689725, 'tmask_p1_hit_rate_max'),\n",
       " (0.31803550441695094, 'tmask_p1_hit_rate_mean'),\n",
       " (-0.060254347794737755, 'tmask_p1_hit_rate_std'),\n",
       " (-0.15538115103394562, 'tmask_p2_hit_rate_min'),\n",
       " (-0.044764114507656695, 'tmask_p2_hit_rate_max'),\n",
       " (0.24726728138624535, 'tmask_p2_hit_rate_mean'),\n",
       " (-0.06129545242857874, 'tmask_p2_hit_rate_std'),\n",
       " (-0.21872973392233025, 'tmask_p3_hit_rate_min'),\n",
       " (-0.15018631424624102, 'tmask_p3_hit_rate_max'),\n",
       " (0.14015922779873585, 'tmask_p3_hit_rate_mean'),\n",
       " (-0.01564307614207972, 'tmask_p3_hit_rate_std')]"
      ]
     },
     "execution_count": 62,
     "metadata": {},
     "output_type": "execute_result"
    }
   ],
   "source": [
    "list(zip(lr.coef_.tolist()[0], all_features))"
   ]
  },
  {
   "cell_type": "code",
   "execution_count": null,
   "metadata": {},
   "outputs": [],
   "source": []
  },
  {
   "cell_type": "markdown",
   "metadata": {},
   "source": [
    "### II часть, в которой я понял, что на тесте будут ровно те же игроки, что и на трейне, а значит можно переобучаться сколько душе угодно"
   ]
  },
  {
   "cell_type": "markdown",
   "metadata": {},
   "source": [
    "Обучили логистическую регрессию, теперь делаем predict_proba сам на себя (на игроков из трейна) и строим рейтинг игрока как мат.ожидание набранных баллов на \"среднем\" турнире со \"средними\" по сложности вопросами\n",
    "\n",
    "На самом деле нужен даже не целый турнир, а просто один \"средний\" вопрос. \n",
    "\n",
    "Мы будем предсказывать вероятность дать правильный ответ - это и будет рейтинг игрока."
   ]
  },
  {
   "cell_type": "code",
   "execution_count": null,
   "metadata": {},
   "outputs": [],
   "source": []
  },
  {
   "cell_type": "code",
   "execution_count": 63,
   "metadata": {},
   "outputs": [],
   "source": [
    "# фичи берем по последней игре данного игрока т.к. там информация о всех прошлых играх\n",
    "player_feats['max_date_start'] = player_feats.player_id.map(player_feats.groupby('player_id').date_start.max())\n",
    "XX = player_feats[player_feats.date_start == player_feats.max_date_start]"
   ]
  },
  {
   "cell_type": "code",
   "execution_count": 64,
   "metadata": {},
   "outputs": [],
   "source": [
    "# вместо фич по вопросам подставляем \"средние\" значения\n",
    "XX['question_hit_rate'] = 0.4253"
   ]
  },
  {
   "cell_type": "code",
   "execution_count": 65,
   "metadata": {},
   "outputs": [],
   "source": [
    "# тип соревнования \n",
    "XX['type'] = 2   "
   ]
  },
  {
   "cell_type": "code",
   "execution_count": 66,
   "metadata": {},
   "outputs": [],
   "source": [
    "# аналогично заполняем пропуски\n",
    "# заполняем пропуски теми же средними, что были на этапе обучения модели\n",
    "for col in all_features:\n",
    "    fill_value = fillna_dict[col]           \n",
    "    XX[col] = XX[col].fillna(fill_value)"
   ]
  },
  {
   "cell_type": "code",
   "execution_count": 67,
   "metadata": {},
   "outputs": [],
   "source": [
    "rating = XX[['player_id']] # .rename(columns={'player_id': 'ID'})"
   ]
  },
  {
   "cell_type": "code",
   "execution_count": 68,
   "metadata": {},
   "outputs": [],
   "source": [
    "rating['rating'] = lr.predict_proba(XX[all_features])[:, 1]"
   ]
  },
  {
   "cell_type": "code",
   "execution_count": 69,
   "metadata": {},
   "outputs": [],
   "source": [
    "rating['player'] = rating.player_id.map( {k: v.get('name', '') + ' '+ v.get('surname', '') \n",
    "                                          for k,v in players.items()} )"
   ]
  },
  {
   "cell_type": "code",
   "execution_count": 70,
   "metadata": {},
   "outputs": [],
   "source": [
    "rating = rating.sort_values('rating', ascending=False).reset_index(drop=True)"
   ]
  },
  {
   "cell_type": "code",
   "execution_count": 88,
   "metadata": {},
   "outputs": [],
   "source": [
    "!mkdir -p output\n",
    "rating.to_csv('./output/rating.csv', index=False)"
   ]
  },
  {
   "cell_type": "code",
   "execution_count": 71,
   "metadata": {},
   "outputs": [
    {
     "data": {
      "text/html": [
       "<div>\n",
       "<style scoped>\n",
       "    .dataframe tbody tr th:only-of-type {\n",
       "        vertical-align: middle;\n",
       "    }\n",
       "\n",
       "    .dataframe tbody tr th {\n",
       "        vertical-align: top;\n",
       "    }\n",
       "\n",
       "    .dataframe thead th {\n",
       "        text-align: right;\n",
       "    }\n",
       "</style>\n",
       "<table border=\"1\" class=\"dataframe\">\n",
       "  <thead>\n",
       "    <tr style=\"text-align: right;\">\n",
       "      <th></th>\n",
       "      <th>player_id</th>\n",
       "      <th>rating</th>\n",
       "      <th>player</th>\n",
       "    </tr>\n",
       "  </thead>\n",
       "  <tbody>\n",
       "    <tr>\n",
       "      <th>0</th>\n",
       "      <td>28751</td>\n",
       "      <td>0.729801</td>\n",
       "      <td>Иван Семушин</td>\n",
       "    </tr>\n",
       "    <tr>\n",
       "      <th>1</th>\n",
       "      <td>30152</td>\n",
       "      <td>0.725588</td>\n",
       "      <td>Артём Сорожкин</td>\n",
       "    </tr>\n",
       "    <tr>\n",
       "      <th>2</th>\n",
       "      <td>4270</td>\n",
       "      <td>0.724764</td>\n",
       "      <td>Александра Брутер</td>\n",
       "    </tr>\n",
       "    <tr>\n",
       "      <th>3</th>\n",
       "      <td>33032</td>\n",
       "      <td>0.722046</td>\n",
       "      <td>Татьяна Фёдорова</td>\n",
       "    </tr>\n",
       "    <tr>\n",
       "      <th>4</th>\n",
       "      <td>30270</td>\n",
       "      <td>0.719878</td>\n",
       "      <td>Сергей Спешков</td>\n",
       "    </tr>\n",
       "    <tr>\n",
       "      <th>5</th>\n",
       "      <td>27822</td>\n",
       "      <td>0.719542</td>\n",
       "      <td>Михаил Савченков</td>\n",
       "    </tr>\n",
       "    <tr>\n",
       "      <th>6</th>\n",
       "      <td>7008</td>\n",
       "      <td>0.719095</td>\n",
       "      <td>Алексей Гилёв</td>\n",
       "    </tr>\n",
       "    <tr>\n",
       "      <th>7</th>\n",
       "      <td>18332</td>\n",
       "      <td>0.718219</td>\n",
       "      <td>Александр Либер</td>\n",
       "    </tr>\n",
       "    <tr>\n",
       "      <th>8</th>\n",
       "      <td>110920</td>\n",
       "      <td>0.715694</td>\n",
       "      <td>Алексей Дворянчиков</td>\n",
       "    </tr>\n",
       "    <tr>\n",
       "      <th>9</th>\n",
       "      <td>27499</td>\n",
       "      <td>0.715305</td>\n",
       "      <td>Наталия Рыжанова</td>\n",
       "    </tr>\n",
       "    <tr>\n",
       "      <th>10</th>\n",
       "      <td>12313</td>\n",
       "      <td>0.714915</td>\n",
       "      <td>Сергей Иванченко</td>\n",
       "    </tr>\n",
       "    <tr>\n",
       "      <th>11</th>\n",
       "      <td>27403</td>\n",
       "      <td>0.713073</td>\n",
       "      <td>Максим Руссо</td>\n",
       "    </tr>\n",
       "    <tr>\n",
       "      <th>12</th>\n",
       "      <td>14786</td>\n",
       "      <td>0.710939</td>\n",
       "      <td>Николай Коврижных</td>\n",
       "    </tr>\n",
       "    <tr>\n",
       "      <th>13</th>\n",
       "      <td>22799</td>\n",
       "      <td>0.710240</td>\n",
       "      <td>Сергей Николенко</td>\n",
       "    </tr>\n",
       "    <tr>\n",
       "      <th>14</th>\n",
       "      <td>23321</td>\n",
       "      <td>0.709655</td>\n",
       "      <td>Дмитрий Ожигов</td>\n",
       "    </tr>\n",
       "    <tr>\n",
       "      <th>15</th>\n",
       "      <td>10586</td>\n",
       "      <td>0.706331</td>\n",
       "      <td>Павел Ершов</td>\n",
       "    </tr>\n",
       "    <tr>\n",
       "      <th>16</th>\n",
       "      <td>32458</td>\n",
       "      <td>0.705614</td>\n",
       "      <td>Игорь Тюнькин</td>\n",
       "    </tr>\n",
       "    <tr>\n",
       "      <th>17</th>\n",
       "      <td>116713</td>\n",
       "      <td>0.703982</td>\n",
       "      <td>Ольга Сарницкая</td>\n",
       "    </tr>\n",
       "    <tr>\n",
       "      <th>18</th>\n",
       "      <td>33620</td>\n",
       "      <td>0.702372</td>\n",
       "      <td>Руслан Хаиткулов</td>\n",
       "    </tr>\n",
       "    <tr>\n",
       "      <th>19</th>\n",
       "      <td>37718</td>\n",
       "      <td>0.702357</td>\n",
       "      <td>Дмитрий Петров</td>\n",
       "    </tr>\n",
       "  </tbody>\n",
       "</table>\n",
       "</div>"
      ],
      "text/plain": [
       "    player_id    rating               player\n",
       "0       28751  0.729801         Иван Семушин\n",
       "1       30152  0.725588       Артём Сорожкин\n",
       "2        4270  0.724764    Александра Брутер\n",
       "3       33032  0.722046     Татьяна Фёдорова\n",
       "4       30270  0.719878       Сергей Спешков\n",
       "5       27822  0.719542     Михаил Савченков\n",
       "6        7008  0.719095        Алексей Гилёв\n",
       "7       18332  0.718219      Александр Либер\n",
       "8      110920  0.715694  Алексей Дворянчиков\n",
       "9       27499  0.715305     Наталия Рыжанова\n",
       "10      12313  0.714915     Сергей Иванченко\n",
       "11      27403  0.713073         Максим Руссо\n",
       "12      14786  0.710939    Николай Коврижных\n",
       "13      22799  0.710240     Сергей Николенко\n",
       "14      23321  0.709655       Дмитрий Ожигов\n",
       "15      10586  0.706331          Павел Ершов\n",
       "16      32458  0.705614        Игорь Тюнькин\n",
       "17     116713  0.703982      Ольга Сарницкая\n",
       "18      33620  0.702372     Руслан Хаиткулов\n",
       "19      37718  0.702357       Дмитрий Петров"
      ]
     },
     "execution_count": 71,
     "metadata": {},
     "output_type": "execute_result"
    }
   ],
   "source": [
    "rating.head(20)"
   ]
  },
  {
   "cell_type": "code",
   "execution_count": 72,
   "metadata": {},
   "outputs": [],
   "source": [
    "# топ 100 по версии https://rating.chgk.info/players.php на начало апреля 2021\n",
    "top100_real = ['Артём Сорожкин','Михаил Савченков','Иван Семушин','Сергей Спешков','Максим Руссо',\n",
    "               'Александра Брутер','Александр Либер','Михаил Левандовский','Ким Галачян','Сергей Николенко','Тимур Кафиатуллин',\n",
    "               'Юрий Выменец','Антон Чернин','Наиль Фарукшин','Сергей Коновалов','Андрей Островский','Игорь Тюнькин',\n",
    "               'Татьяна Фёдорова','Екатерина Лобкова','Андрей Волыхов','Кирилл Чернышёв','Дмитрий Ожигов',\n",
    "               'Наталья Кудряшова','Дмитрий Петров','Руслан Хаиткулов','Елизавета Овдеенко','Дмитрий Карякин',\n",
    "               'Сергей Терентьев','Егор Дружинин','Алексей Гилёв','Максим Поташев','Дмитрий Великов',\n",
    "               'Вадим Яковлев','Евгений Коватенков','Николай Некрылов','Инна Семёнова','Александр Салита',\n",
    "               'Станислав Мереминский','Серафим Шибанов','Михаил Малкин','Алексей Дворянчиков','Ольга Сарницкая',\n",
    "               'Владимир Степанов','Александр Карчевский','Екатерина Новикова','Ринат Сибаев','Сергей Иванченко',\n",
    "               'Наталия Рыжанова','Александр Мартынов','Михаил Новосёлов','Александр Марков',\n",
    "               'Иван Ефремов','Рузель Халиуллин','Алексей Шередега','Эльдар Эльман','Никита Поверинов',\n",
    "               'Ася Самойлова','Мария Подрядчикова','Александр Печеный','Юлия Архангельская','Глеб Николаев',\n",
    "               'Александр Фингеров','Владислав Декалов','Павел Ершов','Ирина Прокофьева','Андрей Белов',\n",
    "               'Анвар Мухаметкалиев','Иделия Айзятулова','Дмитрий Тарарыков','Наталья Комар','Вячеслав Колосов',\n",
    "               'Юлия Дидбаридзе','Владислав Харитонов','Игорь Мокин','Евгений Перпер','Леонид Михлин',\n",
    "               'Николай Крапиль','Тимур Боков','Владимир Сушков','Николай Порцель','Ирина Проскурина',\n",
    "               'Карина Файзуллина','Анастасия Шестакова','Дмитрий Литвинов','Игорь Биткин','Андрей Цепаев',\n",
    "               'Екатерина Шевцова','Станислав Мальчёнков','Егор Кузьменко','Вадим Раскумандрин','Эльмира Гулуева',\n",
    "               'Валерия Кудрявцева','Сергей Евсеев','Алексей Чебыкин','Антон Бочкарёв','Денис Галиакберов',\n",
    "               'Мария Кленницкая','Анастасия Рубашкина','Алексей Шуб','Антон Пинчук', \n",
    "              ]\n",
    "\n",
    "top100_real_enumerated = {j:i for i,j in enumerate(top100_real, start=1)}"
   ]
  },
  {
   "cell_type": "code",
   "execution_count": 81,
   "metadata": {},
   "outputs": [],
   "source": [
    "top100 = rating.head(100)"
   ]
  },
  {
   "cell_type": "code",
   "execution_count": 82,
   "metadata": {},
   "outputs": [],
   "source": [
    "top100['is_in_real_top100'] = top100.player.isin(top100_real).astype(int)\n",
    "top100['real_rating'] = top100.player.map(top100_real_enumerated)"
   ]
  },
  {
   "cell_type": "code",
   "execution_count": 83,
   "metadata": {},
   "outputs": [
    {
     "data": {
      "text/html": [
       "<div>\n",
       "<style scoped>\n",
       "    .dataframe tbody tr th:only-of-type {\n",
       "        vertical-align: middle;\n",
       "    }\n",
       "\n",
       "    .dataframe tbody tr th {\n",
       "        vertical-align: top;\n",
       "    }\n",
       "\n",
       "    .dataframe thead th {\n",
       "        text-align: right;\n",
       "    }\n",
       "</style>\n",
       "<table border=\"1\" class=\"dataframe\">\n",
       "  <thead>\n",
       "    <tr style=\"text-align: right;\">\n",
       "      <th></th>\n",
       "      <th>player_id</th>\n",
       "      <th>rating</th>\n",
       "      <th>player</th>\n",
       "      <th>is_in_real_top100</th>\n",
       "      <th>real_rating</th>\n",
       "    </tr>\n",
       "  </thead>\n",
       "  <tbody>\n",
       "    <tr>\n",
       "      <th>0</th>\n",
       "      <td>28751</td>\n",
       "      <td>0.729801</td>\n",
       "      <td>Иван Семушин</td>\n",
       "      <td>1</td>\n",
       "      <td>3.0</td>\n",
       "    </tr>\n",
       "    <tr>\n",
       "      <th>1</th>\n",
       "      <td>30152</td>\n",
       "      <td>0.725588</td>\n",
       "      <td>Артём Сорожкин</td>\n",
       "      <td>1</td>\n",
       "      <td>1.0</td>\n",
       "    </tr>\n",
       "    <tr>\n",
       "      <th>2</th>\n",
       "      <td>4270</td>\n",
       "      <td>0.724764</td>\n",
       "      <td>Александра Брутер</td>\n",
       "      <td>1</td>\n",
       "      <td>6.0</td>\n",
       "    </tr>\n",
       "    <tr>\n",
       "      <th>3</th>\n",
       "      <td>33032</td>\n",
       "      <td>0.722046</td>\n",
       "      <td>Татьяна Фёдорова</td>\n",
       "      <td>1</td>\n",
       "      <td>18.0</td>\n",
       "    </tr>\n",
       "    <tr>\n",
       "      <th>4</th>\n",
       "      <td>30270</td>\n",
       "      <td>0.719878</td>\n",
       "      <td>Сергей Спешков</td>\n",
       "      <td>1</td>\n",
       "      <td>4.0</td>\n",
       "    </tr>\n",
       "    <tr>\n",
       "      <th>5</th>\n",
       "      <td>27822</td>\n",
       "      <td>0.719542</td>\n",
       "      <td>Михаил Савченков</td>\n",
       "      <td>1</td>\n",
       "      <td>2.0</td>\n",
       "    </tr>\n",
       "    <tr>\n",
       "      <th>6</th>\n",
       "      <td>7008</td>\n",
       "      <td>0.719095</td>\n",
       "      <td>Алексей Гилёв</td>\n",
       "      <td>1</td>\n",
       "      <td>30.0</td>\n",
       "    </tr>\n",
       "    <tr>\n",
       "      <th>7</th>\n",
       "      <td>18332</td>\n",
       "      <td>0.718219</td>\n",
       "      <td>Александр Либер</td>\n",
       "      <td>1</td>\n",
       "      <td>7.0</td>\n",
       "    </tr>\n",
       "    <tr>\n",
       "      <th>8</th>\n",
       "      <td>110920</td>\n",
       "      <td>0.715694</td>\n",
       "      <td>Алексей Дворянчиков</td>\n",
       "      <td>1</td>\n",
       "      <td>41.0</td>\n",
       "    </tr>\n",
       "    <tr>\n",
       "      <th>9</th>\n",
       "      <td>27499</td>\n",
       "      <td>0.715305</td>\n",
       "      <td>Наталия Рыжанова</td>\n",
       "      <td>1</td>\n",
       "      <td>48.0</td>\n",
       "    </tr>\n",
       "    <tr>\n",
       "      <th>10</th>\n",
       "      <td>12313</td>\n",
       "      <td>0.714915</td>\n",
       "      <td>Сергей Иванченко</td>\n",
       "      <td>1</td>\n",
       "      <td>47.0</td>\n",
       "    </tr>\n",
       "    <tr>\n",
       "      <th>11</th>\n",
       "      <td>27403</td>\n",
       "      <td>0.713073</td>\n",
       "      <td>Максим Руссо</td>\n",
       "      <td>1</td>\n",
       "      <td>5.0</td>\n",
       "    </tr>\n",
       "    <tr>\n",
       "      <th>12</th>\n",
       "      <td>14786</td>\n",
       "      <td>0.710939</td>\n",
       "      <td>Николай Коврижных</td>\n",
       "      <td>0</td>\n",
       "      <td>NaN</td>\n",
       "    </tr>\n",
       "    <tr>\n",
       "      <th>13</th>\n",
       "      <td>22799</td>\n",
       "      <td>0.710240</td>\n",
       "      <td>Сергей Николенко</td>\n",
       "      <td>1</td>\n",
       "      <td>10.0</td>\n",
       "    </tr>\n",
       "    <tr>\n",
       "      <th>14</th>\n",
       "      <td>23321</td>\n",
       "      <td>0.709655</td>\n",
       "      <td>Дмитрий Ожигов</td>\n",
       "      <td>1</td>\n",
       "      <td>22.0</td>\n",
       "    </tr>\n",
       "    <tr>\n",
       "      <th>15</th>\n",
       "      <td>10586</td>\n",
       "      <td>0.706331</td>\n",
       "      <td>Павел Ершов</td>\n",
       "      <td>1</td>\n",
       "      <td>64.0</td>\n",
       "    </tr>\n",
       "    <tr>\n",
       "      <th>16</th>\n",
       "      <td>32458</td>\n",
       "      <td>0.705614</td>\n",
       "      <td>Игорь Тюнькин</td>\n",
       "      <td>1</td>\n",
       "      <td>17.0</td>\n",
       "    </tr>\n",
       "    <tr>\n",
       "      <th>17</th>\n",
       "      <td>116713</td>\n",
       "      <td>0.703982</td>\n",
       "      <td>Ольга Сарницкая</td>\n",
       "      <td>1</td>\n",
       "      <td>42.0</td>\n",
       "    </tr>\n",
       "    <tr>\n",
       "      <th>18</th>\n",
       "      <td>33620</td>\n",
       "      <td>0.702372</td>\n",
       "      <td>Руслан Хаиткулов</td>\n",
       "      <td>1</td>\n",
       "      <td>25.0</td>\n",
       "    </tr>\n",
       "    <tr>\n",
       "      <th>19</th>\n",
       "      <td>37718</td>\n",
       "      <td>0.702357</td>\n",
       "      <td>Дмитрий Петров</td>\n",
       "      <td>1</td>\n",
       "      <td>24.0</td>\n",
       "    </tr>\n",
       "  </tbody>\n",
       "</table>\n",
       "</div>"
      ],
      "text/plain": [
       "    player_id    rating               player  is_in_real_top100  real_rating\n",
       "0       28751  0.729801         Иван Семушин                  1          3.0\n",
       "1       30152  0.725588       Артём Сорожкин                  1          1.0\n",
       "2        4270  0.724764    Александра Брутер                  1          6.0\n",
       "3       33032  0.722046     Татьяна Фёдорова                  1         18.0\n",
       "4       30270  0.719878       Сергей Спешков                  1          4.0\n",
       "5       27822  0.719542     Михаил Савченков                  1          2.0\n",
       "6        7008  0.719095        Алексей Гилёв                  1         30.0\n",
       "7       18332  0.718219      Александр Либер                  1          7.0\n",
       "8      110920  0.715694  Алексей Дворянчиков                  1         41.0\n",
       "9       27499  0.715305     Наталия Рыжанова                  1         48.0\n",
       "10      12313  0.714915     Сергей Иванченко                  1         47.0\n",
       "11      27403  0.713073         Максим Руссо                  1          5.0\n",
       "12      14786  0.710939    Николай Коврижных                  0          NaN\n",
       "13      22799  0.710240     Сергей Николенко                  1         10.0\n",
       "14      23321  0.709655       Дмитрий Ожигов                  1         22.0\n",
       "15      10586  0.706331          Павел Ершов                  1         64.0\n",
       "16      32458  0.705614        Игорь Тюнькин                  1         17.0\n",
       "17     116713  0.703982      Ольга Сарницкая                  1         42.0\n",
       "18      33620  0.702372     Руслан Хаиткулов                  1         25.0\n",
       "19      37718  0.702357       Дмитрий Петров                  1         24.0"
      ]
     },
     "execution_count": 83,
     "metadata": {},
     "output_type": "execute_result"
    }
   ],
   "source": [
    "top100.head(20)"
   ]
  },
  {
   "cell_type": "code",
   "execution_count": 84,
   "metadata": {
    "scrolled": true
   },
   "outputs": [
    {
     "data": {
      "text/plain": [
       "59"
      ]
     },
     "execution_count": 84,
     "metadata": {},
     "output_type": "execute_result"
    }
   ],
   "source": [
    "top100.is_in_real_top100.sum()"
   ]
  },
  {
   "cell_type": "code",
   "execution_count": null,
   "metadata": {},
   "outputs": [],
   "source": []
  },
  {
   "cell_type": "markdown",
   "metadata": {},
   "source": [
    "### 59 игроков из топ-100 официального рейтинга ЧГК попали в топ-100 по модели."
   ]
  },
  {
   "cell_type": "code",
   "execution_count": null,
   "metadata": {},
   "outputs": [],
   "source": []
  },
  {
   "cell_type": "markdown",
   "metadata": {},
   "source": [
    "----"
   ]
  },
  {
   "cell_type": "markdown",
   "metadata": {},
   "source": [
    "### III часть, где предсказываются результаты турниров 2020 года с известными составами, но неизвестными вопросами"
   ]
  },
  {
   "cell_type": "markdown",
   "metadata": {},
   "source": [
    "_Качество рейтинг-системы оценивается качеством предсказаний результатов турниров_\n",
    "\n",
    "_Поэтому предложите способ предсказать результаты нового турнира с известными составами, но неизвестными вопросами, в виде ранжирования команд;_"
   ]
  },
  {
   "cell_type": "markdown",
   "metadata": {},
   "source": [
    "Мат.ожадание набранных командой баллов - это просто сумма вероятностей ответить на вопросы. \n",
    "\n",
    "Но так как заранее мы не знаем сложность вопросов, можно просто оценить вероятность ответить на один \"средний\" вопрос. \n",
    "\n",
    "Рейтинг команды считаем как вероятность, что команда ответит на этот \"средний\" вопрос. Она равняется тому, что хотя бы один член команды ответит правильно. (сделаем упрощающее предположение, что если хотя бы один член команды дает верный ответ, то и вся команда дает верный ответ)"
   ]
  },
  {
   "cell_type": "markdown",
   "metadata": {},
   "source": [
    "$$P_{team}(y=1)= 1 - \\prod\tP_i(y=0)$$"
   ]
  },
  {
   "cell_type": "markdown",
   "metadata": {},
   "source": [
    "где P_i(y=0) - индивидуальная вероятность, что i-ый член команды не дал правильного ответа на вопрос"
   ]
  },
  {
   "cell_type": "code",
   "execution_count": 85,
   "metadata": {},
   "outputs": [
    {
     "data": {
      "text/html": [
       "<div>\n",
       "<style scoped>\n",
       "    .dataframe tbody tr th:only-of-type {\n",
       "        vertical-align: middle;\n",
       "    }\n",
       "\n",
       "    .dataframe tbody tr th {\n",
       "        vertical-align: top;\n",
       "    }\n",
       "\n",
       "    .dataframe thead th {\n",
       "        text-align: right;\n",
       "    }\n",
       "</style>\n",
       "<table border=\"1\" class=\"dataframe\">\n",
       "  <thead>\n",
       "    <tr style=\"text-align: right;\">\n",
       "      <th></th>\n",
       "      <th>player_id</th>\n",
       "      <th>rating</th>\n",
       "      <th>player</th>\n",
       "    </tr>\n",
       "  </thead>\n",
       "  <tbody>\n",
       "    <tr>\n",
       "      <th>0</th>\n",
       "      <td>28751</td>\n",
       "      <td>0.729801</td>\n",
       "      <td>Иван Семушин</td>\n",
       "    </tr>\n",
       "    <tr>\n",
       "      <th>1</th>\n",
       "      <td>30152</td>\n",
       "      <td>0.725588</td>\n",
       "      <td>Артём Сорожкин</td>\n",
       "    </tr>\n",
       "    <tr>\n",
       "      <th>2</th>\n",
       "      <td>4270</td>\n",
       "      <td>0.724764</td>\n",
       "      <td>Александра Брутер</td>\n",
       "    </tr>\n",
       "  </tbody>\n",
       "</table>\n",
       "</div>"
      ],
      "text/plain": [
       "   player_id    rating             player\n",
       "0      28751  0.729801       Иван Семушин\n",
       "1      30152  0.725588     Артём Сорожкин\n",
       "2       4270  0.724764  Александра Брутер"
      ]
     },
     "execution_count": 85,
     "metadata": {},
     "output_type": "execute_result"
    }
   ],
   "source": [
    "rating.head(3)"
   ]
  },
  {
   "cell_type": "code",
   "execution_count": null,
   "metadata": {},
   "outputs": [],
   "source": []
  },
  {
   "cell_type": "code",
   "execution_count": 245,
   "metadata": {},
   "outputs": [],
   "source": [
    "rating_dict = rating[['player_id', 'rating']].set_index('player_id').T.to_dict('records')[0]\n",
    "\n",
    "\n",
    "# {28751: [0.7298011491856893],\n",
    "#  30152: [0.7255879465278992],\n",
    "#  4270: [0.7247644842290046],\n",
    "#  33032: [0.7220455169364687],\n",
    "#  30270: [0.7198782130663005],\n",
    "#  27822: [0.7195424698126476],\n",
    "#  7008: [0.7190946342765561],\n",
    "#  18332: [0.7182192841874325],\n",
    "#  110920: [0.7156937105685747],\n",
    "#  27499: [0.7153050188058772],\n",
    "#  12313: [0.7149150113903385],\n",
    "#  27403: [0.7130734824832596],\n",
    "#  14786: [0.7109388032243028],\n",
    "#  22799: [0.7102399948436137],\n",
    "# ...}"
   ]
  },
  {
   "cell_type": "code",
   "execution_count": 246,
   "metadata": {},
   "outputs": [
    {
     "data": {
      "text/plain": [
       "(0.7298011491856893, 0.7102399948436137)"
      ]
     },
     "execution_count": 246,
     "metadata": {},
     "output_type": "execute_result"
    }
   ],
   "source": [
    "rating_dict[28751], rating_dict[22799]"
   ]
  },
  {
   "cell_type": "code",
   "execution_count": null,
   "metadata": {},
   "outputs": [],
   "source": []
  },
  {
   "cell_type": "code",
   "execution_count": 413,
   "metadata": {},
   "outputs": [
    {
     "name": "stdout",
     "output_type": "stream",
     "text": [
      "5670 'position'\n",
      "5714 'position'\n",
      "5816 'position'\n",
      "5922 'position'\n",
      "6243 'position'\n",
      "6309 'position'\n",
      "6316 'position'\n",
      "6336 'position'\n",
      "6348 'position'\n",
      "6350 'position'\n",
      "6363 'position'\n",
      "6364 'position'\n",
      "6365 'position'\n",
      "6392 'position'\n",
      "6400 'position'\n",
      "6415 'position'\n",
      "6453 'position'\n",
      "6469 'position'\n",
      "6470 'position'\n",
      "6471 'position'\n",
      "CPU times: user 180 ms, sys: 29.4 ms, total: 209 ms\n",
      "Wall time: 214 ms\n"
     ]
    }
   ],
   "source": [
    "%%time\n",
    "rows = []\n",
    "known_players = set(rating.player_id)\n",
    "\n",
    "for game_id in results:\n",
    "\n",
    "    if tournaments[game_id]['dateStart'][:4] not in ['2020']:\n",
    "        continue\n",
    "\n",
    "    try:\n",
    "        for team in results[game_id]:\n",
    "            team_name = team['team']['name']\n",
    "            position = team['position']\n",
    "            team_id = team['team']['id']\n",
    "            player_ids = sorted([p['player']['id'] for p in team['teamMembers']])\n",
    "\n",
    "            product = 1\n",
    "            for player_id in player_ids:\n",
    "                if player_id in known_players:\n",
    "                    product *= (1 - rating_dict[player_id])\n",
    "            team_rating = 1 - product            \n",
    "            \n",
    "            rows.append((game_id, team_name, position, team_id, player_ids, team_rating))\n",
    "            \n",
    "    except Exception as e:\n",
    "        print(game_id, e)\n",
    "        continue"
   ]
  },
  {
   "cell_type": "code",
   "execution_count": 414,
   "metadata": {},
   "outputs": [],
   "source": [
    "df = pd.DataFrame(rows)"
   ]
  },
  {
   "cell_type": "code",
   "execution_count": 415,
   "metadata": {},
   "outputs": [
    {
     "data": {
      "text/html": [
       "<div>\n",
       "<style scoped>\n",
       "    .dataframe tbody tr th:only-of-type {\n",
       "        vertical-align: middle;\n",
       "    }\n",
       "\n",
       "    .dataframe tbody tr th {\n",
       "        vertical-align: top;\n",
       "    }\n",
       "\n",
       "    .dataframe thead th {\n",
       "        text-align: right;\n",
       "    }\n",
       "</style>\n",
       "<table border=\"1\" class=\"dataframe\">\n",
       "  <thead>\n",
       "    <tr style=\"text-align: right;\">\n",
       "      <th></th>\n",
       "      <th>0</th>\n",
       "      <th>1</th>\n",
       "      <th>2</th>\n",
       "      <th>3</th>\n",
       "      <th>4</th>\n",
       "      <th>5</th>\n",
       "    </tr>\n",
       "  </thead>\n",
       "  <tbody>\n",
       "    <tr>\n",
       "      <th>0</th>\n",
       "      <td>4957</td>\n",
       "      <td>Борский корабел</td>\n",
       "      <td>1.0</td>\n",
       "      <td>49804</td>\n",
       "      <td>[4270, 27403, 27822, 28751, 30152, 30270]</td>\n",
       "      <td>0.999540</td>\n",
       "    </tr>\n",
       "    <tr>\n",
       "      <th>1</th>\n",
       "      <td>4957</td>\n",
       "      <td>Первая сборная</td>\n",
       "      <td>2.0</td>\n",
       "      <td>4109</td>\n",
       "      <td>[25177, 33792, 34936, 40877, 107161, 113703]</td>\n",
       "      <td>0.998611</td>\n",
       "    </tr>\n",
       "    <tr>\n",
       "      <th>2</th>\n",
       "      <td>4957</td>\n",
       "      <td>Сова при свете дня</td>\n",
       "      <td>3.0</td>\n",
       "      <td>3875</td>\n",
       "      <td>[13857, 19632, 21346, 33620, 37836, 46339]</td>\n",
       "      <td>0.997776</td>\n",
       "    </tr>\n",
       "  </tbody>\n",
       "</table>\n",
       "</div>"
      ],
      "text/plain": [
       "      0                   1    2      3  \\\n",
       "0  4957     Борский корабел  1.0  49804   \n",
       "1  4957      Первая сборная  2.0   4109   \n",
       "2  4957  Сова при свете дня  3.0   3875   \n",
       "\n",
       "                                              4         5  \n",
       "0     [4270, 27403, 27822, 28751, 30152, 30270]  0.999540  \n",
       "1  [25177, 33792, 34936, 40877, 107161, 113703]  0.998611  \n",
       "2    [13857, 19632, 21346, 33620, 37836, 46339]  0.997776  "
      ]
     },
     "execution_count": 415,
     "metadata": {},
     "output_type": "execute_result"
    }
   ],
   "source": [
    "df.head(3)"
   ]
  },
  {
   "cell_type": "code",
   "execution_count": 416,
   "metadata": {},
   "outputs": [],
   "source": [
    "df.columns = ['game_id', 'team_name', 'position', 'team_id', 'player_ids', 'team_rating']"
   ]
  },
  {
   "cell_type": "code",
   "execution_count": 417,
   "metadata": {},
   "outputs": [
    {
     "data": {
      "text/html": [
       "<div>\n",
       "<style scoped>\n",
       "    .dataframe tbody tr th:only-of-type {\n",
       "        vertical-align: middle;\n",
       "    }\n",
       "\n",
       "    .dataframe tbody tr th {\n",
       "        vertical-align: top;\n",
       "    }\n",
       "\n",
       "    .dataframe thead th {\n",
       "        text-align: right;\n",
       "    }\n",
       "</style>\n",
       "<table border=\"1\" class=\"dataframe\">\n",
       "  <thead>\n",
       "    <tr style=\"text-align: right;\">\n",
       "      <th></th>\n",
       "      <th>game_id</th>\n",
       "      <th>team_name</th>\n",
       "      <th>position</th>\n",
       "      <th>team_id</th>\n",
       "      <th>player_ids</th>\n",
       "      <th>team_rating</th>\n",
       "    </tr>\n",
       "  </thead>\n",
       "  <tbody>\n",
       "    <tr>\n",
       "      <th>0</th>\n",
       "      <td>4957</td>\n",
       "      <td>Борский корабел</td>\n",
       "      <td>1.0</td>\n",
       "      <td>49804</td>\n",
       "      <td>[4270, 27403, 27822, 28751, 30152, 30270]</td>\n",
       "      <td>0.999540</td>\n",
       "    </tr>\n",
       "    <tr>\n",
       "      <th>1</th>\n",
       "      <td>4957</td>\n",
       "      <td>Первая сборная</td>\n",
       "      <td>2.0</td>\n",
       "      <td>4109</td>\n",
       "      <td>[25177, 33792, 34936, 40877, 107161, 113703]</td>\n",
       "      <td>0.998611</td>\n",
       "    </tr>\n",
       "    <tr>\n",
       "      <th>2</th>\n",
       "      <td>4957</td>\n",
       "      <td>Сова при свете дня</td>\n",
       "      <td>3.0</td>\n",
       "      <td>3875</td>\n",
       "      <td>[13857, 19632, 21346, 33620, 37836, 46339]</td>\n",
       "      <td>0.997776</td>\n",
       "    </tr>\n",
       "  </tbody>\n",
       "</table>\n",
       "</div>"
      ],
      "text/plain": [
       "   game_id           team_name  position  team_id  \\\n",
       "0     4957     Борский корабел       1.0    49804   \n",
       "1     4957      Первая сборная       2.0     4109   \n",
       "2     4957  Сова при свете дня       3.0     3875   \n",
       "\n",
       "                                     player_ids  team_rating  \n",
       "0     [4270, 27403, 27822, 28751, 30152, 30270]     0.999540  \n",
       "1  [25177, 33792, 34936, 40877, 107161, 113703]     0.998611  \n",
       "2    [13857, 19632, 21346, 33620, 37836, 46339]     0.997776  "
      ]
     },
     "execution_count": 417,
     "metadata": {},
     "output_type": "execute_result"
    }
   ],
   "source": [
    "df.head(3)"
   ]
  },
  {
   "cell_type": "code",
   "execution_count": 418,
   "metadata": {},
   "outputs": [],
   "source": [
    "groud_truth_list = df.groupby('game_id').position.apply(list)\n",
    "model_rating_list = df.groupby('game_id').team_rating.apply(list)"
   ]
  },
  {
   "cell_type": "code",
   "execution_count": 419,
   "metadata": {},
   "outputs": [],
   "source": [
    "spearmen_corr = []\n",
    "kendall_corr = []\n",
    "\n",
    "for actual, model in zip(groud_truth_list, model_rating_list):\n",
    "    \n",
    "    spearman = sts.spearmanr(actual, np.argsort(-np.array(model))).correlation\n",
    "    kendall = sts.kendalltau(actual, np.argsort(-np.array(model))).correlation\n",
    "\n",
    "    if np.isnan(spearman):\n",
    "        continue\n",
    "    \n",
    "    spearmen_corr.append(spearman)\n",
    "    kendall_corr.append(kendall)\n",
    "    \n",
    "spearmen_score = np.mean(spearmen_corr)\n",
    "kendall_score = np.mean(kendall_corr)"
   ]
  },
  {
   "cell_type": "code",
   "execution_count": 420,
   "metadata": {},
   "outputs": [
    {
     "data": {
      "text/plain": [
       "(0.7159610793541057, 0.5597787726548374)"
      ]
     },
     "execution_count": 420,
     "metadata": {},
     "output_type": "execute_result"
    }
   ],
   "source": [
    "spearmen_score, kendall_score"
   ]
  },
  {
   "cell_type": "markdown",
   "metadata": {},
   "source": [
    "----"
   ]
  },
  {
   "cell_type": "markdown",
   "metadata": {},
   "source": [
    "### IV часть, где вводится ЕМ-алгоритм для учета влияния скрытой переменной \"сила команды\"\n"
   ]
  },
  {
   "cell_type": "markdown",
   "metadata": {},
   "source": [
    "_Теперь главное: ЧГК — это всё-таки командная игра. Поэтому:_\n",
    "\n",
    "_предложите способ учитывать то, что на вопрос отвечают сразу несколько игроков; скорее всего, понадобятся скрытые переменные; не стесняйтесь делать упрощающие предположения, но теперь переменные “игрок X ответил на вопрос Y” при условии данных должны стать зависимыми для игроков одной и той же команды;_\n"
   ]
  },
  {
   "cell_type": "markdown",
   "metadata": {},
   "source": [
    "- Е-шаг: по вероятностям (рейтингам) игроков считаем рейтинг команды - вероятность команды верно ответить на вопрос = 1 - П P(y = 0)\n",
    "- М-шаг: с помощью вероятности команды пересчитываем вероятность игрока ответить на вопрос (то есть теперь уже при условии команды)"
   ]
  },
  {
   "cell_type": "code",
   "execution_count": null,
   "metadata": {},
   "outputs": [],
   "source": []
  },
  {
   "cell_type": "markdown",
   "metadata": {},
   "source": [
    "----"
   ]
  },
  {
   "cell_type": "markdown",
   "metadata": {},
   "source": [
    "### V часть, с рейтинг-листом турниров по сложности вопросов."
   ]
  },
  {
   "cell_type": "code",
   "execution_count": null,
   "metadata": {},
   "outputs": [],
   "source": []
  },
  {
   "cell_type": "code",
   "execution_count": null,
   "metadata": {},
   "outputs": [],
   "source": []
  },
  {
   "cell_type": "code",
   "execution_count": null,
   "metadata": {},
   "outputs": [],
   "source": []
  },
  {
   "cell_type": "code",
   "execution_count": null,
   "metadata": {},
   "outputs": [],
   "source": []
  }
 ],
 "metadata": {
  "kernelspec": {
   "display_name": "Python 3",
   "language": "python",
   "name": "python3"
  },
  "language_info": {
   "codemirror_mode": {
    "name": "ipython",
    "version": 3
   },
   "file_extension": ".py",
   "mimetype": "text/x-python",
   "name": "python",
   "nbconvert_exporter": "python",
   "pygments_lexer": "ipython3",
   "version": "3.6.9"
  }
 },
 "nbformat": 4,
 "nbformat_minor": 4
}
